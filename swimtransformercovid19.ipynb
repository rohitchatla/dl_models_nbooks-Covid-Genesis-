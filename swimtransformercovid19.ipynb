{
 "cells": [
  {
   "cell_type": "code",
   "execution_count": 1,
   "id": "toxic-browse",
   "metadata": {
    "execution": {
     "iopub.execute_input": "2021-05-25T03:08:01.495730Z",
     "iopub.status.busy": "2021-05-25T03:08:01.494750Z",
     "iopub.status.idle": "2021-05-25T03:08:01.497577Z",
     "shell.execute_reply": "2021-05-25T03:08:01.497103Z",
     "shell.execute_reply.started": "2021-05-25T02:55:11.963326Z"
    },
    "papermill": {
     "duration": 0.080899,
     "end_time": "2021-05-25T03:08:01.497704",
     "exception": false,
     "start_time": "2021-05-25T03:08:01.416805",
     "status": "completed"
    },
    "tags": []
   },
   "outputs": [],
   "source": [
    "import numpy as np # linear algebra\n",
    "import pandas as pd # data processing, CSV file I/O (e.g. pd.read_csv)\n"
   ]
  },
  {
   "cell_type": "code",
   "execution_count": 2,
   "id": "behind-vacation",
   "metadata": {
    "execution": {
     "iopub.execute_input": "2021-05-25T03:08:01.635478Z",
     "iopub.status.busy": "2021-05-25T03:08:01.634935Z",
     "iopub.status.idle": "2021-05-25T03:08:02.280434Z",
     "shell.execute_reply": "2021-05-25T03:08:02.279579Z",
     "shell.execute_reply.started": "2021-05-25T02:54:56.832016Z"
    },
    "papermill": {
     "duration": 0.715459,
     "end_time": "2021-05-25T03:08:02.280576",
     "exception": false,
     "start_time": "2021-05-25T03:08:01.565117",
     "status": "completed"
    },
    "tags": []
   },
   "outputs": [
    {
     "name": "stdout",
     "output_type": "stream",
     "text": [
      "__notebook__.ipynb  __results___files  custom.css\r\n",
      "__output__.json     bestmodel.pth      model1.pth\r\n",
      "__results__.html    bestmodel.pth.pth  unfreeze_model.pth\r\n"
     ]
    }
   ],
   "source": [
    "!ls ../input/swimtransformercovid19"
   ]
  },
  {
   "cell_type": "code",
   "execution_count": null,
   "id": "indian-saudi",
   "metadata": {
    "papermill": {
     "duration": 0.068647,
     "end_time": "2021-05-25T03:08:02.417537",
     "exception": false,
     "start_time": "2021-05-25T03:08:02.348890",
     "status": "completed"
    },
    "tags": []
   },
   "outputs": [],
   "source": []
  },
  {
   "cell_type": "code",
   "execution_count": 3,
   "id": "partial-approval",
   "metadata": {
    "execution": {
     "iopub.execute_input": "2021-05-25T03:08:02.565094Z",
     "iopub.status.busy": "2021-05-25T03:08:02.564198Z",
     "iopub.status.idle": "2021-05-25T03:08:27.724511Z",
     "shell.execute_reply": "2021-05-25T03:08:27.724060Z",
     "shell.execute_reply.started": "2021-05-25T02:55:15.519750Z"
    },
    "papermill": {
     "duration": 25.239467,
     "end_time": "2021-05-25T03:08:27.724634",
     "exception": false,
     "start_time": "2021-05-25T03:08:02.485167",
     "status": "completed"
    },
    "tags": []
   },
   "outputs": [
    {
     "name": "stdout",
     "output_type": "stream",
     "text": [
      "Collecting fastai==1.0.61\r\n",
      "  Downloading fastai-1.0.61-py3-none-any.whl (239 kB)\r\n",
      "\u001b[K     |████████████████████████████████| 239 kB 4.4 MB/s \r\n",
      "\u001b[?25hRequirement already satisfied: nvidia-ml-py3 in /opt/conda/lib/python3.7/site-packages (from fastai==1.0.61) (7.352.0)\r\n",
      "Requirement already satisfied: packaging in /opt/conda/lib/python3.7/site-packages (from fastai==1.0.61) (20.9)\r\n",
      "Requirement already satisfied: Pillow in /opt/conda/lib/python3.7/site-packages (from fastai==1.0.61) (7.2.0)\r\n",
      "Requirement already satisfied: numexpr in /opt/conda/lib/python3.7/site-packages (from fastai==1.0.61) (2.7.3)\r\n",
      "Requirement already satisfied: spacy>=2.0.18 in /opt/conda/lib/python3.7/site-packages (from fastai==1.0.61) (2.3.5)\r\n",
      "Requirement already satisfied: scipy in /opt/conda/lib/python3.7/site-packages (from fastai==1.0.61) (1.5.4)\r\n",
      "Requirement already satisfied: fastprogress>=0.2.1 in /opt/conda/lib/python3.7/site-packages (from fastai==1.0.61) (1.0.0)\r\n",
      "Requirement already satisfied: pandas in /opt/conda/lib/python3.7/site-packages (from fastai==1.0.61) (1.1.5)\r\n",
      "Requirement already satisfied: numpy>=1.15 in /opt/conda/lib/python3.7/site-packages (from fastai==1.0.61) (1.19.5)\r\n",
      "Requirement already satisfied: pyyaml in /opt/conda/lib/python3.7/site-packages (from fastai==1.0.61) (5.3.1)\r\n",
      "Collecting beautifulsoup4\r\n",
      "  Downloading beautifulsoup4-4.9.3-py3-none-any.whl (115 kB)\r\n",
      "\u001b[K     |████████████████████████████████| 115 kB 13.0 MB/s \r\n",
      "\u001b[?25hRequirement already satisfied: matplotlib in /opt/conda/lib/python3.7/site-packages (from fastai==1.0.61) (3.4.1)\r\n",
      "Collecting bottleneck\r\n",
      "  Downloading Bottleneck-1.3.2.tar.gz (88 kB)\r\n",
      "\u001b[K     |████████████████████████████████| 88 kB 5.1 MB/s \r\n",
      "\u001b[?25h  Installing build dependencies ... \u001b[?25l-\b \b\\\b \b|\b \b/\b \b-\b \b\\\b \bdone\r\n",
      "\u001b[?25h  Getting requirements to build wheel ... \u001b[?25ldone\r\n",
      "\u001b[?25h    Preparing wheel metadata ... \u001b[?25l-\b \bdone\r\n",
      "\u001b[?25hRequirement already satisfied: requests in /opt/conda/lib/python3.7/site-packages (from fastai==1.0.61) (2.25.1)\r\n",
      "Requirement already satisfied: torch>=1.0.0 in /opt/conda/lib/python3.7/site-packages (from fastai==1.0.61) (1.7.0)\r\n",
      "Requirement already satisfied: torchvision in /opt/conda/lib/python3.7/site-packages (from fastai==1.0.61) (0.8.1)\r\n",
      "Requirement already satisfied: catalogue<1.1.0,>=0.0.7 in /opt/conda/lib/python3.7/site-packages (from spacy>=2.0.18->fastai==1.0.61) (1.0.0)\r\n",
      "Requirement already satisfied: murmurhash<1.1.0,>=0.28.0 in /opt/conda/lib/python3.7/site-packages (from spacy>=2.0.18->fastai==1.0.61) (1.0.5)\r\n",
      "Requirement already satisfied: tqdm<5.0.0,>=4.38.0 in /opt/conda/lib/python3.7/site-packages (from spacy>=2.0.18->fastai==1.0.61) (4.59.0)\r\n",
      "Requirement already satisfied: thinc<7.5.0,>=7.4.1 in /opt/conda/lib/python3.7/site-packages (from spacy>=2.0.18->fastai==1.0.61) (7.4.5)\r\n",
      "Requirement already satisfied: blis<0.8.0,>=0.4.0 in /opt/conda/lib/python3.7/site-packages (from spacy>=2.0.18->fastai==1.0.61) (0.7.4)\r\n",
      "Requirement already satisfied: cymem<2.1.0,>=2.0.2 in /opt/conda/lib/python3.7/site-packages (from spacy>=2.0.18->fastai==1.0.61) (2.0.5)\r\n",
      "Requirement already satisfied: preshed<3.1.0,>=3.0.2 in /opt/conda/lib/python3.7/site-packages (from spacy>=2.0.18->fastai==1.0.61) (3.0.5)\r\n",
      "Requirement already satisfied: plac<1.2.0,>=0.9.6 in /opt/conda/lib/python3.7/site-packages (from spacy>=2.0.18->fastai==1.0.61) (1.1.3)\r\n",
      "Requirement already satisfied: wasabi<1.1.0,>=0.4.0 in /opt/conda/lib/python3.7/site-packages (from spacy>=2.0.18->fastai==1.0.61) (0.8.2)\r\n",
      "Requirement already satisfied: setuptools in /opt/conda/lib/python3.7/site-packages (from spacy>=2.0.18->fastai==1.0.61) (49.6.0.post20210108)\r\n",
      "Requirement already satisfied: srsly<1.1.0,>=1.0.2 in /opt/conda/lib/python3.7/site-packages (from spacy>=2.0.18->fastai==1.0.61) (1.0.5)\r\n",
      "Requirement already satisfied: importlib-metadata>=0.20 in /opt/conda/lib/python3.7/site-packages (from catalogue<1.1.0,>=0.0.7->spacy>=2.0.18->fastai==1.0.61) (3.4.0)\r\n",
      "Requirement already satisfied: zipp>=0.5 in /opt/conda/lib/python3.7/site-packages (from importlib-metadata>=0.20->catalogue<1.1.0,>=0.0.7->spacy>=2.0.18->fastai==1.0.61) (3.4.1)\r\n",
      "Requirement already satisfied: typing-extensions>=3.6.4 in /opt/conda/lib/python3.7/site-packages (from importlib-metadata>=0.20->catalogue<1.1.0,>=0.0.7->spacy>=2.0.18->fastai==1.0.61) (3.7.4.3)\r\n",
      "Requirement already satisfied: urllib3<1.27,>=1.21.1 in /opt/conda/lib/python3.7/site-packages (from requests->fastai==1.0.61) (1.26.4)\r\n",
      "Requirement already satisfied: certifi>=2017.4.17 in /opt/conda/lib/python3.7/site-packages (from requests->fastai==1.0.61) (2020.12.5)\r\n",
      "Requirement already satisfied: idna<3,>=2.5 in /opt/conda/lib/python3.7/site-packages (from requests->fastai==1.0.61) (2.10)\r\n",
      "Requirement already satisfied: chardet<5,>=3.0.2 in /opt/conda/lib/python3.7/site-packages (from requests->fastai==1.0.61) (4.0.0)\r\n",
      "Requirement already satisfied: future in /opt/conda/lib/python3.7/site-packages (from torch>=1.0.0->fastai==1.0.61) (0.18.2)\r\n",
      "Requirement already satisfied: dataclasses in /opt/conda/lib/python3.7/site-packages (from torch>=1.0.0->fastai==1.0.61) (0.6)\r\n",
      "Collecting soupsieve>1.2\r\n",
      "  Downloading soupsieve-2.2.1-py3-none-any.whl (33 kB)\r\n",
      "Requirement already satisfied: pyparsing>=2.2.1 in /opt/conda/lib/python3.7/site-packages (from matplotlib->fastai==1.0.61) (2.4.7)\r\n",
      "Requirement already satisfied: kiwisolver>=1.0.1 in /opt/conda/lib/python3.7/site-packages (from matplotlib->fastai==1.0.61) (1.3.1)\r\n",
      "Requirement already satisfied: cycler>=0.10 in /opt/conda/lib/python3.7/site-packages (from matplotlib->fastai==1.0.61) (0.10.0)\r\n",
      "Requirement already satisfied: python-dateutil>=2.7 in /opt/conda/lib/python3.7/site-packages (from matplotlib->fastai==1.0.61) (2.8.1)\r\n",
      "Requirement already satisfied: six in /opt/conda/lib/python3.7/site-packages (from cycler>=0.10->matplotlib->fastai==1.0.61) (1.15.0)\r\n",
      "Requirement already satisfied: pytz>=2017.2 in /opt/conda/lib/python3.7/site-packages (from pandas->fastai==1.0.61) (2021.1)\r\n",
      "Building wheels for collected packages: bottleneck\r\n",
      "  Building wheel for bottleneck (PEP 517) ... \u001b[?25l-\b \b\\\b \b|\b \b/\b \b-\b \b\\\b \b|\b \b/\b \bdone\r\n",
      "\u001b[?25h  Created wheel for bottleneck: filename=Bottleneck-1.3.2-cp37-cp37m-linux_x86_64.whl size=334952 sha256=ce93c82995bffb287b341c24df31a0918063c4c596615a170b817600e9570375\r\n",
      "  Stored in directory: /root/.cache/pip/wheels/87/85/9c/a325c89ff0498660ef8a335fb4b3912939c273ea4f094af29f\r\n",
      "Successfully built bottleneck\r\n",
      "Installing collected packages: soupsieve, bottleneck, beautifulsoup4, fastai\r\n",
      "  Attempting uninstall: fastai\r\n",
      "    Found existing installation: fastai 2.3.0\r\n",
      "    Uninstalling fastai-2.3.0:\r\n",
      "      Successfully uninstalled fastai-2.3.0\r\n",
      "Successfully installed beautifulsoup4-4.9.3 bottleneck-1.3.2 fastai-1.0.61 soupsieve-2.2.1\r\n",
      "Note: you may need to restart the kernel to use updated packages.\n"
     ]
    }
   ],
   "source": [
    "pip install fastai==1.0.61"
   ]
  },
  {
   "cell_type": "code",
   "execution_count": 4,
   "id": "united-lending",
   "metadata": {
    "execution": {
     "iopub.execute_input": "2021-05-25T03:08:27.893739Z",
     "iopub.status.busy": "2021-05-25T03:08:27.889296Z",
     "iopub.status.idle": "2021-05-25T03:08:36.904818Z",
     "shell.execute_reply": "2021-05-25T03:08:36.904196Z",
     "shell.execute_reply.started": "2021-05-25T02:55:41.424811Z"
    },
    "papermill": {
     "duration": 9.099783,
     "end_time": "2021-05-25T03:08:36.904982",
     "exception": false,
     "start_time": "2021-05-25T03:08:27.805199",
     "status": "completed"
    },
    "tags": []
   },
   "outputs": [
    {
     "name": "stdout",
     "output_type": "stream",
     "text": [
      "Collecting git+https://github.com/rwightman/pytorch-image-models.git\r\n",
      "  Cloning https://github.com/rwightman/pytorch-image-models.git to /tmp/pip-req-build-ia5md2b0\r\n",
      "  Running command git clone -q https://github.com/rwightman/pytorch-image-models.git /tmp/pip-req-build-ia5md2b0\r\n",
      "Requirement already satisfied: torch>=1.4 in /opt/conda/lib/python3.7/site-packages (from timm==0.4.9) (1.7.0)\r\n",
      "Requirement already satisfied: torchvision in /opt/conda/lib/python3.7/site-packages (from timm==0.4.9) (0.8.1)\r\n",
      "Requirement already satisfied: future in /opt/conda/lib/python3.7/site-packages (from torch>=1.4->timm==0.4.9) (0.18.2)\r\n",
      "Requirement already satisfied: typing_extensions in /opt/conda/lib/python3.7/site-packages (from torch>=1.4->timm==0.4.9) (3.7.4.3)\r\n",
      "Requirement already satisfied: dataclasses in /opt/conda/lib/python3.7/site-packages (from torch>=1.4->timm==0.4.9) (0.6)\r\n",
      "Requirement already satisfied: numpy in /opt/conda/lib/python3.7/site-packages (from torch>=1.4->timm==0.4.9) (1.19.5)\r\n",
      "Requirement already satisfied: pillow>=4.1.1 in /opt/conda/lib/python3.7/site-packages (from torchvision->timm==0.4.9) (7.2.0)\r\n",
      "Building wheels for collected packages: timm\r\n",
      "  Building wheel for timm (setup.py) ... \u001b[?25l-\b \b\\\b \b|\b \bdone\r\n",
      "\u001b[?25h  Created wheel for timm: filename=timm-0.4.9-py3-none-any.whl size=356561 sha256=630d13576f8d78482dd827b58e4e6a7452c072e76e1c8da40c46734e12699e5c\r\n",
      "  Stored in directory: /tmp/pip-ephem-wheel-cache-bnstbufk/wheels/a0/ec/5f/289118b747739bb1e02e36cf3d7e759721e881c183653719dc\r\n",
      "Successfully built timm\r\n",
      "Installing collected packages: timm\r\n",
      "Successfully installed timm-0.4.9\r\n",
      "Note: you may need to restart the kernel to use updated packages.\n"
     ]
    }
   ],
   "source": [
    "pip install git+https://github.com/rwightman/pytorch-image-models.git"
   ]
  },
  {
   "cell_type": "code",
   "execution_count": 5,
   "id": "threatened-breeding",
   "metadata": {
    "execution": {
     "iopub.execute_input": "2021-05-25T03:08:37.156660Z",
     "iopub.status.busy": "2021-05-25T03:08:37.155840Z",
     "iopub.status.idle": "2021-05-25T03:08:37.158663Z",
     "shell.execute_reply": "2021-05-25T03:08:37.158245Z",
     "shell.execute_reply.started": "2021-05-25T02:55:50.519527Z"
    },
    "papermill": {
     "duration": 0.112026,
     "end_time": "2021-05-25T03:08:37.158767",
     "exception": false,
     "start_time": "2021-05-25T03:08:37.046741",
     "status": "completed"
    },
    "tags": []
   },
   "outputs": [],
   "source": [
    "import warnings\n",
    "warnings.filterwarnings(\"ignore\") "
   ]
  },
  {
   "cell_type": "code",
   "execution_count": 6,
   "id": "ambient-divorce",
   "metadata": {
    "execution": {
     "iopub.execute_input": "2021-05-25T03:08:37.323966Z",
     "iopub.status.busy": "2021-05-25T03:08:37.323242Z",
     "iopub.status.idle": "2021-05-25T03:08:38.721056Z",
     "shell.execute_reply": "2021-05-25T03:08:38.720571Z",
     "shell.execute_reply.started": "2021-05-25T02:55:50.526249Z"
    },
    "papermill": {
     "duration": 1.483135,
     "end_time": "2021-05-25T03:08:38.721209",
     "exception": false,
     "start_time": "2021-05-25T03:08:37.238074",
     "status": "completed"
    },
    "tags": []
   },
   "outputs": [],
   "source": [
    "from torch.utils.data import DataLoader, Dataset\n",
    "import torchvision.transforms as T\n",
    "import torch\n",
    "import torch.nn as nn\n",
    "from torchvision.utils import make_grid\n",
    "from torchvision.utils import save_image\n",
    "from IPython.display import Image\n",
    "import matplotlib.pyplot as plt\n",
    "import numpy as np\n",
    "import random\n",
    "%matplotlib inline"
   ]
  },
  {
   "cell_type": "code",
   "execution_count": 7,
   "id": "expensive-shell",
   "metadata": {
    "execution": {
     "iopub.execute_input": "2021-05-25T03:08:38.885422Z",
     "iopub.status.busy": "2021-05-25T03:08:38.884597Z",
     "iopub.status.idle": "2021-05-25T03:08:39.844767Z",
     "shell.execute_reply": "2021-05-25T03:08:39.844069Z",
     "shell.execute_reply.started": "2021-05-25T02:55:52.038166Z"
    },
    "papermill": {
     "duration": 1.043211,
     "end_time": "2021-05-25T03:08:39.844898",
     "exception": false,
     "start_time": "2021-05-25T03:08:38.801687",
     "status": "completed"
    },
    "tags": []
   },
   "outputs": [],
   "source": [
    "\n",
    "from fastai.vision import *\n",
    "import os\n",
    "import matplotlib.pyplot as plt\n",
    "import matplotlib.image as mpimg"
   ]
  },
  {
   "cell_type": "code",
   "execution_count": 8,
   "id": "musical-intellectual",
   "metadata": {
    "execution": {
     "iopub.execute_input": "2021-05-25T03:08:40.006375Z",
     "iopub.status.busy": "2021-05-25T03:08:40.005616Z",
     "iopub.status.idle": "2021-05-25T03:08:40.008409Z",
     "shell.execute_reply": "2021-05-25T03:08:40.007996Z",
     "shell.execute_reply.started": "2021-05-25T02:55:53.025112Z"
    },
    "papermill": {
     "duration": 0.084609,
     "end_time": "2021-05-25T03:08:40.008529",
     "exception": false,
     "start_time": "2021-05-25T03:08:39.923920",
     "status": "completed"
    },
    "tags": []
   },
   "outputs": [],
   "source": [
    "import fastai"
   ]
  },
  {
   "cell_type": "code",
   "execution_count": 9,
   "id": "lucky-particle",
   "metadata": {
    "execution": {
     "iopub.execute_input": "2021-05-25T03:08:40.177760Z",
     "iopub.status.busy": "2021-05-25T03:08:40.176844Z",
     "iopub.status.idle": "2021-05-25T03:08:40.801966Z",
     "shell.execute_reply": "2021-05-25T03:08:40.801513Z",
     "shell.execute_reply.started": "2021-05-25T02:55:53.031059Z"
    },
    "papermill": {
     "duration": 0.714526,
     "end_time": "2021-05-25T03:08:40.802092",
     "exception": false,
     "start_time": "2021-05-25T03:08:40.087566",
     "status": "completed"
    },
    "tags": []
   },
   "outputs": [
    {
     "name": "stdout",
     "output_type": "stream",
     "text": [
      " COVID\t\t\t      Normal.metadata.xlsx\r\n",
      " COVID.metadata.xlsx\t      README.md.txt\r\n",
      " Lung_Opacity\t\t     'Viral Pneumonia'\r\n",
      " Lung_Opacity.metadata.xlsx  'Viral Pneumonia.metadata.xlsx'\r\n",
      " Normal\r\n"
     ]
    }
   ],
   "source": [
    "!ls ../input/covid19-radiography-database/COVID-19_Radiography_Dataset"
   ]
  },
  {
   "cell_type": "code",
   "execution_count": 10,
   "id": "impossible-invitation",
   "metadata": {
    "execution": {
     "iopub.execute_input": "2021-05-25T03:08:40.967825Z",
     "iopub.status.busy": "2021-05-25T03:08:40.967080Z",
     "iopub.status.idle": "2021-05-25T03:08:40.969920Z",
     "shell.execute_reply": "2021-05-25T03:08:40.969448Z",
     "shell.execute_reply.started": "2021-05-25T02:55:53.690201Z"
    },
    "papermill": {
     "duration": 0.087015,
     "end_time": "2021-05-25T03:08:40.970038",
     "exception": false,
     "start_time": "2021-05-25T03:08:40.883023",
     "status": "completed"
    },
    "tags": []
   },
   "outputs": [],
   "source": [
    "source_dir = \"/kaggle/input/covid19-radiography-database/COVID-19_Radiography_Dataset\"\n",
    "\n",
    "random_seed = 42\n",
    "np.random.seed(random_seed)\n",
    "random.seed(random_seed)\n",
    "\n",
    "epochs = 10\n",
    "\n",
    "valid_split = 0.2"
   ]
  },
  {
   "cell_type": "code",
   "execution_count": 11,
   "id": "political-ribbon",
   "metadata": {
    "execution": {
     "iopub.execute_input": "2021-05-25T03:08:41.132290Z",
     "iopub.status.busy": "2021-05-25T03:08:41.131444Z",
     "iopub.status.idle": "2021-05-25T03:08:41.134191Z",
     "shell.execute_reply": "2021-05-25T03:08:41.133746Z",
     "shell.execute_reply.started": "2021-05-25T02:55:53.700623Z"
    },
    "papermill": {
     "duration": 0.085065,
     "end_time": "2021-05-25T03:08:41.134302",
     "exception": false,
     "start_time": "2021-05-25T03:08:41.049237",
     "status": "completed"
    },
    "tags": []
   },
   "outputs": [],
   "source": [
    "import pandas as pd"
   ]
  },
  {
   "cell_type": "code",
   "execution_count": 12,
   "id": "dominican-tongue",
   "metadata": {
    "execution": {
     "iopub.execute_input": "2021-05-25T03:08:41.301238Z",
     "iopub.status.busy": "2021-05-25T03:08:41.300171Z",
     "iopub.status.idle": "2021-05-25T03:08:41.925536Z",
     "shell.execute_reply": "2021-05-25T03:08:41.925037Z",
     "shell.execute_reply.started": "2021-05-25T02:55:53.709234Z"
    },
    "papermill": {
     "duration": 0.712692,
     "end_time": "2021-05-25T03:08:41.925677",
     "exception": false,
     "start_time": "2021-05-25T03:08:41.212985",
     "status": "completed"
    },
    "tags": []
   },
   "outputs": [
    {
     "name": "stdout",
     "output_type": "stream",
     "text": [
      " COVID\t\t\t      Normal.metadata.xlsx\r\n",
      " COVID.metadata.xlsx\t      README.md.txt\r\n",
      " Lung_Opacity\t\t     'Viral Pneumonia'\r\n",
      " Lung_Opacity.metadata.xlsx  'Viral Pneumonia.metadata.xlsx'\r\n",
      " Normal\r\n"
     ]
    }
   ],
   "source": [
    "!ls ../input/covid19-radiography-database/COVID-19_Radiography_Dataset\n"
   ]
  },
  {
   "cell_type": "code",
   "execution_count": 13,
   "id": "higher-professor",
   "metadata": {
    "execution": {
     "iopub.execute_input": "2021-05-25T03:08:42.094247Z",
     "iopub.status.busy": "2021-05-25T03:08:42.093529Z",
     "iopub.status.idle": "2021-05-25T03:08:42.847338Z",
     "shell.execute_reply": "2021-05-25T03:08:42.846850Z",
     "shell.execute_reply.started": "2021-05-25T02:55:54.352707Z"
    },
    "papermill": {
     "duration": 0.841474,
     "end_time": "2021-05-25T03:08:42.847490",
     "exception": false,
     "start_time": "2021-05-25T03:08:42.006016",
     "status": "completed"
    },
    "tags": []
   },
   "outputs": [],
   "source": [
    "import glob\n",
    "import cv2\n",
    "import numpy as np\n",
    "%matplotlib inline\n",
    "filesCOVID= sorted(glob.glob('../input/covid19-radiography-database/COVID-19_Radiography_Dataset/COVID/*.png'))\n",
    "filesPnue=sorted(glob.glob('../input/covid19-radiography-database/COVID-19_Radiography_Dataset/Viral Pneumonia/*.png'))\n",
    "filesLungsOpt=sorted(glob.glob('../input/covid19-radiography-database/COVID-19_Radiography_Dataset/Lung_Opacity/*.png'))\n",
    "filesNormal=sorted(glob.glob('../input/covid19-radiography-database/COVID-19_Radiography_Dataset/Normal/*.png'))"
   ]
  },
  {
   "cell_type": "code",
   "execution_count": 14,
   "id": "abstract-singapore",
   "metadata": {
    "execution": {
     "iopub.execute_input": "2021-05-25T03:08:43.013173Z",
     "iopub.status.busy": "2021-05-25T03:08:43.012419Z",
     "iopub.status.idle": "2021-05-25T03:08:43.015114Z",
     "shell.execute_reply": "2021-05-25T03:08:43.014723Z",
     "shell.execute_reply.started": "2021-05-25T02:55:55.747416Z"
    },
    "papermill": {
     "duration": 0.08698,
     "end_time": "2021-05-25T03:08:43.015239",
     "exception": false,
     "start_time": "2021-05-25T03:08:42.928259",
     "status": "completed"
    },
    "tags": []
   },
   "outputs": [],
   "source": [
    "filesLungsOpt=filesLungsOpt[:3500]\n",
    "filesNormal=filesNormal[:3500]"
   ]
  },
  {
   "cell_type": "code",
   "execution_count": 15,
   "id": "palestinian-terror",
   "metadata": {
    "execution": {
     "iopub.execute_input": "2021-05-25T03:08:43.180940Z",
     "iopub.status.busy": "2021-05-25T03:08:43.180220Z",
     "iopub.status.idle": "2021-05-25T03:08:43.183249Z",
     "shell.execute_reply": "2021-05-25T03:08:43.183717Z",
     "shell.execute_reply.started": "2021-05-25T02:55:55.755448Z"
    },
    "papermill": {
     "duration": 0.088812,
     "end_time": "2021-05-25T03:08:43.183840",
     "exception": false,
     "start_time": "2021-05-25T03:08:43.095028",
     "status": "completed"
    },
    "tags": []
   },
   "outputs": [
    {
     "data": {
      "text/plain": [
       "(3616, 1345, 3500, 3500)"
      ]
     },
     "execution_count": 15,
     "metadata": {},
     "output_type": "execute_result"
    }
   ],
   "source": [
    "len(filesCOVID),len(filesPnue),len(filesLungsOpt),len(filesNormal)"
   ]
  },
  {
   "cell_type": "code",
   "execution_count": 16,
   "id": "senior-television",
   "metadata": {
    "execution": {
     "iopub.execute_input": "2021-05-25T03:08:43.352112Z",
     "iopub.status.busy": "2021-05-25T03:08:43.351454Z",
     "iopub.status.idle": "2021-05-25T03:08:43.353848Z",
     "shell.execute_reply": "2021-05-25T03:08:43.354250Z",
     "shell.execute_reply.started": "2021-05-25T02:55:55.769790Z"
    },
    "papermill": {
     "duration": 0.089739,
     "end_time": "2021-05-25T03:08:43.354379",
     "exception": false,
     "start_time": "2021-05-25T03:08:43.264640",
     "status": "completed"
    },
    "tags": []
   },
   "outputs": [],
   "source": [
    "norm_labels=[[i,0] for i in filesNormal]\n",
    "lungs_labels=[[i,1] for i in filesLungsOpt]\n",
    "pne_labels=[[i,2] for i in filesPnue]\n",
    "covid_labels=[[i,3] for i in filesCOVID]\n",
    "ds=norm_labels+lungs_labels+pne_labels+covid_labels"
   ]
  },
  {
   "cell_type": "code",
   "execution_count": 17,
   "id": "nominated-auditor",
   "metadata": {
    "execution": {
     "iopub.execute_input": "2021-05-25T03:08:43.527918Z",
     "iopub.status.busy": "2021-05-25T03:08:43.527435Z",
     "iopub.status.idle": "2021-05-25T03:08:43.533103Z",
     "shell.execute_reply": "2021-05-25T03:08:43.532708Z",
     "shell.execute_reply.started": "2021-05-25T02:56:13.256374Z"
    },
    "papermill": {
     "duration": 0.098916,
     "end_time": "2021-05-25T03:08:43.533224",
     "exception": false,
     "start_time": "2021-05-25T03:08:43.434308",
     "status": "completed"
    },
    "tags": []
   },
   "outputs": [],
   "source": [
    "np.random.seed(4200)\n",
    "import pandas as pd \n",
    "df = pd.DataFrame(ds,columns =['path', 'label']) \n",
    "def Randomizing(df):\n",
    "    df2 = df.reindex(np.random.permutation(df.index))\n",
    "    return df2\n",
    "df=Randomizing(df)"
   ]
  },
  {
   "cell_type": "code",
   "execution_count": 18,
   "id": "wrong-delaware",
   "metadata": {
    "execution": {
     "iopub.execute_input": "2021-05-25T03:08:43.695033Z",
     "iopub.status.busy": "2021-05-25T03:08:43.694340Z",
     "iopub.status.idle": "2021-05-25T03:08:43.696665Z",
     "shell.execute_reply": "2021-05-25T03:08:43.697143Z",
     "shell.execute_reply.started": "2021-05-25T02:56:13.456962Z"
    },
    "papermill": {
     "duration": 0.084944,
     "end_time": "2021-05-25T03:08:43.697264",
     "exception": false,
     "start_time": "2021-05-25T03:08:43.612320",
     "status": "completed"
    },
    "tags": []
   },
   "outputs": [],
   "source": [
    "def Randomizing(df):\n",
    "    df2 = df.reindex(np.random.permutation(df.index))\n",
    "    return df2"
   ]
  },
  {
   "cell_type": "code",
   "execution_count": 19,
   "id": "imperial-myanmar",
   "metadata": {
    "execution": {
     "iopub.execute_input": "2021-05-25T03:08:43.860023Z",
     "iopub.status.busy": "2021-05-25T03:08:43.859494Z",
     "iopub.status.idle": "2021-05-25T03:08:44.006758Z",
     "shell.execute_reply": "2021-05-25T03:08:44.006189Z",
     "shell.execute_reply.started": "2021-05-25T02:56:13.705576Z"
    },
    "papermill": {
     "duration": 0.229987,
     "end_time": "2021-05-25T03:08:44.006881",
     "exception": false,
     "start_time": "2021-05-25T03:08:43.776894",
     "status": "completed"
    },
    "tags": []
   },
   "outputs": [],
   "source": [
    "from sklearn.model_selection import train_test_split"
   ]
  },
  {
   "cell_type": "code",
   "execution_count": 20,
   "id": "collected-brook",
   "metadata": {
    "execution": {
     "iopub.execute_input": "2021-05-25T03:08:44.172626Z",
     "iopub.status.busy": "2021-05-25T03:08:44.171892Z",
     "iopub.status.idle": "2021-05-25T03:08:44.176257Z",
     "shell.execute_reply": "2021-05-25T03:08:44.176622Z",
     "shell.execute_reply.started": "2021-05-25T02:56:14.431375Z"
    },
    "papermill": {
     "duration": 0.090039,
     "end_time": "2021-05-25T03:08:44.176751",
     "exception": false,
     "start_time": "2021-05-25T03:08:44.086712",
     "status": "completed"
    },
    "tags": []
   },
   "outputs": [],
   "source": [
    "dftrain, dftest = train_test_split(df, test_size=0.15)"
   ]
  },
  {
   "cell_type": "code",
   "execution_count": 21,
   "id": "stainless-behavior",
   "metadata": {
    "execution": {
     "iopub.execute_input": "2021-05-25T03:08:44.339640Z",
     "iopub.status.busy": "2021-05-25T03:08:44.338933Z",
     "iopub.status.idle": "2021-05-25T03:08:44.341693Z",
     "shell.execute_reply": "2021-05-25T03:08:44.341301Z",
     "shell.execute_reply.started": "2021-05-25T02:56:15.031855Z"
    },
    "papermill": {
     "duration": 0.085799,
     "end_time": "2021-05-25T03:08:44.341798",
     "exception": false,
     "start_time": "2021-05-25T03:08:44.255999",
     "status": "completed"
    },
    "tags": []
   },
   "outputs": [],
   "source": [
    "\n",
    "from fastai.vision import *\n",
    "import os\n",
    "import matplotlib.pyplot as plt\n",
    "import matplotlib.image as mpimg"
   ]
  },
  {
   "cell_type": "code",
   "execution_count": 22,
   "id": "peaceful-battle",
   "metadata": {
    "execution": {
     "iopub.execute_input": "2021-05-25T03:08:44.505203Z",
     "iopub.status.busy": "2021-05-25T03:08:44.504464Z",
     "iopub.status.idle": "2021-05-25T03:08:44.506738Z",
     "shell.execute_reply": "2021-05-25T03:08:44.507187Z",
     "shell.execute_reply.started": "2021-05-25T02:56:15.455345Z"
    },
    "papermill": {
     "duration": 0.085577,
     "end_time": "2021-05-25T03:08:44.507307",
     "exception": false,
     "start_time": "2021-05-25T03:08:44.421730",
     "status": "completed"
    },
    "tags": []
   },
   "outputs": [],
   "source": [
    "\n",
    "from fastai.vision import *"
   ]
  },
  {
   "cell_type": "code",
   "execution_count": 23,
   "id": "light-style",
   "metadata": {
    "execution": {
     "iopub.execute_input": "2021-05-25T03:08:44.668911Z",
     "iopub.status.busy": "2021-05-25T03:08:44.668235Z",
     "iopub.status.idle": "2021-05-25T03:08:44.670769Z",
     "shell.execute_reply": "2021-05-25T03:08:44.670390Z",
     "shell.execute_reply.started": "2021-05-25T02:56:15.873378Z"
    },
    "papermill": {
     "duration": 0.084591,
     "end_time": "2021-05-25T03:08:44.670871",
     "exception": false,
     "start_time": "2021-05-25T03:08:44.586280",
     "status": "completed"
    },
    "tags": []
   },
   "outputs": [],
   "source": [
    "import fastai"
   ]
  },
  {
   "cell_type": "code",
   "execution_count": 24,
   "id": "champion-likelihood",
   "metadata": {
    "execution": {
     "iopub.execute_input": "2021-05-25T03:08:44.833165Z",
     "iopub.status.busy": "2021-05-25T03:08:44.832461Z",
     "iopub.status.idle": "2021-05-25T03:08:44.835234Z",
     "shell.execute_reply": "2021-05-25T03:08:44.834807Z",
     "shell.execute_reply.started": "2021-05-25T02:56:17.003727Z"
    },
    "papermill": {
     "duration": 0.085354,
     "end_time": "2021-05-25T03:08:44.835337",
     "exception": false,
     "start_time": "2021-05-25T03:08:44.749983",
     "status": "completed"
    },
    "tags": []
   },
   "outputs": [],
   "source": [
    "import imp"
   ]
  },
  {
   "cell_type": "code",
   "execution_count": 25,
   "id": "olive-democrat",
   "metadata": {
    "execution": {
     "iopub.execute_input": "2021-05-25T03:08:44.998196Z",
     "iopub.status.busy": "2021-05-25T03:08:44.997466Z",
     "iopub.status.idle": "2021-05-25T03:08:45.002760Z",
     "shell.execute_reply": "2021-05-25T03:08:45.002368Z",
     "shell.execute_reply.started": "2021-05-25T02:56:17.697502Z"
    },
    "papermill": {
     "duration": 0.088118,
     "end_time": "2021-05-25T03:08:45.002868",
     "exception": false,
     "start_time": "2021-05-25T03:08:44.914750",
     "status": "completed"
    },
    "tags": []
   },
   "outputs": [
    {
     "data": {
      "text/plain": [
       "<module 'fastai.vision' from '/opt/conda/lib/python3.7/site-packages/fastai/vision/__init__.py'>"
      ]
     },
     "execution_count": 25,
     "metadata": {},
     "output_type": "execute_result"
    }
   ],
   "source": [
    "imp.reload(fastai)\n",
    "imp.reload(fastai.vision)"
   ]
  },
  {
   "cell_type": "code",
   "execution_count": 26,
   "id": "initial-range",
   "metadata": {
    "execution": {
     "iopub.execute_input": "2021-05-25T03:08:45.166322Z",
     "iopub.status.busy": "2021-05-25T03:08:45.165627Z",
     "iopub.status.idle": "2021-05-25T03:08:45.169002Z",
     "shell.execute_reply": "2021-05-25T03:08:45.168513Z",
     "shell.execute_reply.started": "2021-05-25T02:56:18.439604Z"
    },
    "papermill": {
     "duration": 0.086612,
     "end_time": "2021-05-25T03:08:45.169104",
     "exception": false,
     "start_time": "2021-05-25T03:08:45.082492",
     "status": "completed"
    },
    "tags": []
   },
   "outputs": [
    {
     "data": {
      "text/plain": [
       "'1.0.61'"
      ]
     },
     "execution_count": 26,
     "metadata": {},
     "output_type": "execute_result"
    }
   ],
   "source": [
    "fastai.__version__"
   ]
  },
  {
   "cell_type": "code",
   "execution_count": 27,
   "id": "romantic-treasure",
   "metadata": {
    "execution": {
     "iopub.execute_input": "2021-05-25T03:08:45.334711Z",
     "iopub.status.busy": "2021-05-25T03:08:45.334041Z",
     "iopub.status.idle": "2021-05-25T03:08:45.336809Z",
     "shell.execute_reply": "2021-05-25T03:08:45.336397Z",
     "shell.execute_reply.started": "2021-05-25T02:56:19.291639Z"
    },
    "papermill": {
     "duration": 0.087981,
     "end_time": "2021-05-25T03:08:45.336907",
     "exception": false,
     "start_time": "2021-05-25T03:08:45.248926",
     "status": "completed"
    },
    "tags": []
   },
   "outputs": [],
   "source": [
    "def custom_transform(img): # you get a PyTorch tensor as input, not a fastai Image object\n",
    "    img = image2np(img)*255 # convert to numpy array in range 0-255\n",
    "    img = img.astype(np.uint8) # convert to int\n",
    "\n",
    "    # If your image is a regular colour image, remember it will be in RGB so convert to BGR if needed\n",
    "    lab = cv2.cvtColor(img, cv2.COLOR_BGR2LAB)\n",
    "    lab_planes = cv2.split(lab)\n",
    "    clahe = cv2.createCLAHE(clipLimit=2.0, tileGridSize=(16,16))\n",
    "    lab_planes[0] = clahe.apply(lab_planes[0])\n",
    "    lab = cv2.merge(lab_planes)\n",
    "    bgr = cv2.cvtColor(lab, cv2.COLOR_LAB2BGR)\n",
    "    \n",
    "    return pil2tensor(bgr, dtype=np.float32)/255 # convert back to tensor and return\n",
    "\n",
    "custom_trans = TfmPixel(custom_transform)"
   ]
  },
  {
   "cell_type": "code",
   "execution_count": 28,
   "id": "developmental-broadcasting",
   "metadata": {
    "execution": {
     "iopub.execute_input": "2021-05-25T03:08:45.500338Z",
     "iopub.status.busy": "2021-05-25T03:08:45.499601Z",
     "iopub.status.idle": "2021-05-25T03:08:45.502297Z",
     "shell.execute_reply": "2021-05-25T03:08:45.501878Z",
     "shell.execute_reply.started": "2021-05-25T02:56:19.855501Z"
    },
    "papermill": {
     "duration": 0.085675,
     "end_time": "2021-05-25T03:08:45.502403",
     "exception": false,
     "start_time": "2021-05-25T03:08:45.416728",
     "status": "completed"
    },
    "tags": []
   },
   "outputs": [],
   "source": [
    "tfms_ = get_transforms(do_flip=True,flip_vert=False,max_lighting=0.4,max_zoom=1.1)"
   ]
  },
  {
   "cell_type": "code",
   "execution_count": 29,
   "id": "engaging-victoria",
   "metadata": {
    "execution": {
     "iopub.execute_input": "2021-05-25T03:08:45.665743Z",
     "iopub.status.busy": "2021-05-25T03:08:45.664964Z",
     "iopub.status.idle": "2021-05-25T03:08:45.668496Z",
     "shell.execute_reply": "2021-05-25T03:08:45.668090Z",
     "shell.execute_reply.started": "2021-05-25T02:56:20.375381Z"
    },
    "papermill": {
     "duration": 0.086363,
     "end_time": "2021-05-25T03:08:45.668603",
     "exception": false,
     "start_time": "2021-05-25T03:08:45.582240",
     "status": "completed"
    },
    "tags": []
   },
   "outputs": [
    {
     "data": {
      "text/plain": [
       "[RandTransform(tfm=TfmCrop (crop_pad), kwargs={}, p=1.0, resolved={}, do_run=True, is_random=True, use_on_y=True)]"
      ]
     },
     "execution_count": 29,
     "metadata": {},
     "output_type": "execute_result"
    }
   ],
   "source": [
    "tfms_[1]"
   ]
  },
  {
   "cell_type": "code",
   "execution_count": 30,
   "id": "placed-wells",
   "metadata": {
    "execution": {
     "iopub.execute_input": "2021-05-25T03:08:45.832643Z",
     "iopub.status.busy": "2021-05-25T03:08:45.831990Z",
     "iopub.status.idle": "2021-05-25T03:08:45.834255Z",
     "shell.execute_reply": "2021-05-25T03:08:45.834646Z",
     "shell.execute_reply.started": "2021-05-25T02:56:20.794319Z"
    },
    "papermill": {
     "duration": 0.085912,
     "end_time": "2021-05-25T03:08:45.834762",
     "exception": false,
     "start_time": "2021-05-25T03:08:45.748850",
     "status": "completed"
    },
    "tags": []
   },
   "outputs": [],
   "source": [
    "tfms_[0].insert(0,custom_trans())"
   ]
  },
  {
   "cell_type": "code",
   "execution_count": 31,
   "id": "killing-tourism",
   "metadata": {
    "execution": {
     "iopub.execute_input": "2021-05-25T03:08:45.998381Z",
     "iopub.status.busy": "2021-05-25T03:08:45.997710Z",
     "iopub.status.idle": "2021-05-25T03:08:46.000545Z",
     "shell.execute_reply": "2021-05-25T03:08:46.000143Z",
     "shell.execute_reply.started": "2021-05-25T02:56:21.535474Z"
    },
    "papermill": {
     "duration": 0.085928,
     "end_time": "2021-05-25T03:08:46.000649",
     "exception": false,
     "start_time": "2021-05-25T03:08:45.914721",
     "status": "completed"
    },
    "tags": []
   },
   "outputs": [],
   "source": [
    "tfms_[1].insert(0,custom_trans())"
   ]
  },
  {
   "cell_type": "code",
   "execution_count": 32,
   "id": "established-success",
   "metadata": {
    "execution": {
     "iopub.execute_input": "2021-05-25T03:08:46.169862Z",
     "iopub.status.busy": "2021-05-25T03:08:46.169142Z",
     "iopub.status.idle": "2021-05-25T03:08:47.021112Z",
     "shell.execute_reply": "2021-05-25T03:08:47.020624Z",
     "shell.execute_reply.started": "2021-05-25T02:56:22.403639Z"
    },
    "papermill": {
     "duration": 0.939498,
     "end_time": "2021-05-25T03:08:47.021255",
     "exception": false,
     "start_time": "2021-05-25T03:08:46.081757",
     "status": "completed"
    },
    "tags": []
   },
   "outputs": [],
   "source": [
    "bs =32\n",
    "sz=224\n",
    "\n",
    "src = (ImageList.from_df(df=dftrain,path='',cols='path') #get dataset from dataset\n",
    "        .split_by_rand_pct(0.2) #Splitting the dataset\n",
    "        .label_from_df(cols='label') #obtain labels from the level column\n",
    "      )\n",
    "data= (src.transform(tfms_,size=224,padding_mode='zeros') #Data augmentation\n",
    "        .databunch(bs=bs,num_workers=4) #DataBunch\n",
    "        .normalize(imagenet_stats) #Normalize     \n",
    "       )"
   ]
  },
  {
   "cell_type": "code",
   "execution_count": 33,
   "id": "italic-miami",
   "metadata": {
    "execution": {
     "iopub.execute_input": "2021-05-25T03:08:47.189445Z",
     "iopub.status.busy": "2021-05-25T03:08:47.188881Z",
     "iopub.status.idle": "2021-05-25T03:08:54.474902Z",
     "shell.execute_reply": "2021-05-25T03:08:54.475316Z",
     "shell.execute_reply.started": "2021-05-25T02:56:24.718962Z"
    },
    "papermill": {
     "duration": 7.371952,
     "end_time": "2021-05-25T03:08:54.475469",
     "exception": false,
     "start_time": "2021-05-25T03:08:47.103517",
     "status": "completed"
    },
    "tags": []
   },
   "outputs": [
    {
     "data": {
      "image/png": "[encoded data removed]",
      "text/plain": [
       "<Figure size 1080x576 with 25 Axes>"
      ]
     },
     "metadata": {
      "needs_background": "light"
     },
     "output_type": "display_data"
    }
   ],
   "source": [
    "data.show_batch(rows=5, figsize=(15,8), hide_axis=False)"
   ]
  },
  {
   "cell_type": "code",
   "execution_count": null,
   "id": "decimal-enterprise",
   "metadata": {
    "papermill": {
     "duration": 0.084832,
     "end_time": "2021-05-25T03:08:54.645735",
     "exception": false,
     "start_time": "2021-05-25T03:08:54.560903",
     "status": "completed"
    },
    "tags": []
   },
   "outputs": [],
   "source": []
  },
  {
   "cell_type": "code",
   "execution_count": 34,
   "id": "concrete-income",
   "metadata": {
    "execution": {
     "iopub.execute_input": "2021-05-25T03:08:54.820611Z",
     "iopub.status.busy": "2021-05-25T03:08:54.819867Z",
     "iopub.status.idle": "2021-05-25T03:08:54.822674Z",
     "shell.execute_reply": "2021-05-25T03:08:54.822268Z",
     "shell.execute_reply.started": "2021-05-25T02:56:36.369492Z"
    },
    "papermill": {
     "duration": 0.091824,
     "end_time": "2021-05-25T03:08:54.822782",
     "exception": false,
     "start_time": "2021-05-25T03:08:54.730958",
     "status": "completed"
    },
    "tags": []
   },
   "outputs": [],
   "source": [
    "import torch \n",
    "import torchvision"
   ]
  },
  {
   "cell_type": "code",
   "execution_count": 35,
   "id": "conscious-retention",
   "metadata": {
    "execution": {
     "iopub.execute_input": "2021-05-25T03:08:54.998754Z",
     "iopub.status.busy": "2021-05-25T03:08:54.997939Z",
     "iopub.status.idle": "2021-05-25T03:09:01.425295Z",
     "shell.execute_reply": "2021-05-25T03:09:01.424764Z",
     "shell.execute_reply.started": "2021-05-25T02:56:36.836300Z"
    },
    "papermill": {
     "duration": 6.517062,
     "end_time": "2021-05-25T03:09:01.425514",
     "exception": false,
     "start_time": "2021-05-25T03:08:54.908452",
     "status": "completed"
    },
    "tags": []
   },
   "outputs": [
    {
     "name": "stderr",
     "output_type": "stream",
     "text": [
      "Downloading: \"https://github.com/SwinTransformer/storage/releases/download/v1.0.0/swin_base_patch4_window7_224_22kto1k.pth\" to /root/.cache/torch/hub/checkpoints/swin_base_patch4_window7_224_22kto1k.pth\n"
     ]
    }
   ],
   "source": [
    "import timm\n",
    "\n",
    "m = timm.create_model('swin_base_patch4_window7_224', pretrained=True)"
   ]
  },
  {
   "cell_type": "code",
   "execution_count": 36,
   "id": "earned-replica",
   "metadata": {
    "execution": {
     "iopub.execute_input": "2021-05-25T03:09:01.605367Z",
     "iopub.status.busy": "2021-05-25T03:09:01.604793Z",
     "iopub.status.idle": "2021-05-25T03:09:01.608529Z",
     "shell.execute_reply": "2021-05-25T03:09:01.608104Z",
     "shell.execute_reply.started": "2021-05-25T02:56:43.289520Z"
    },
    "papermill": {
     "duration": 0.094854,
     "end_time": "2021-05-25T03:09:01.608637",
     "exception": false,
     "start_time": "2021-05-25T03:09:01.513783",
     "status": "completed"
    },
    "tags": []
   },
   "outputs": [],
   "source": [
    "num_ftrs = m.head.in_features"
   ]
  },
  {
   "cell_type": "code",
   "execution_count": 37,
   "id": "progressive-charter",
   "metadata": {
    "execution": {
     "iopub.execute_input": "2021-05-25T03:09:01.796940Z",
     "iopub.status.busy": "2021-05-25T03:09:01.796239Z",
     "iopub.status.idle": "2021-05-25T03:09:01.801252Z",
     "shell.execute_reply": "2021-05-25T03:09:01.801624Z",
     "shell.execute_reply.started": "2021-05-25T02:56:43.295479Z"
    },
    "papermill": {
     "duration": 0.096962,
     "end_time": "2021-05-25T03:09:01.801760",
     "exception": false,
     "start_time": "2021-05-25T03:09:01.704798",
     "status": "completed"
    },
    "tags": []
   },
   "outputs": [],
   "source": [
    "m.head=nn.Sequential(\n",
    "    nn.Dropout(0.3),\n",
    "    nn.Linear(num_ftrs, 256),\n",
    "    nn.Dropout(0.5),\n",
    "    nn.Linear(256, 4),\n",
    ")"
   ]
  },
  {
   "cell_type": "code",
   "execution_count": 38,
   "id": "textile-tsunami",
   "metadata": {
    "execution": {
     "iopub.execute_input": "2021-05-25T03:09:02.027273Z",
     "iopub.status.busy": "2021-05-25T03:09:02.026542Z",
     "iopub.status.idle": "2021-05-25T03:09:02.029237Z",
     "shell.execute_reply": "2021-05-25T03:09:02.029625Z",
     "shell.execute_reply.started": "2021-05-25T02:56:50.473707Z"
    },
    "papermill": {
     "duration": 0.142304,
     "end_time": "2021-05-25T03:09:02.029754",
     "exception": false,
     "start_time": "2021-05-25T03:09:01.887450",
     "status": "completed"
    },
    "tags": []
   },
   "outputs": [
    {
     "data": {
      "text/plain": [
       "[0, 1, 2, 3]"
      ]
     },
     "execution_count": 38,
     "metadata": {},
     "output_type": "execute_result"
    }
   ],
   "source": [
    "data.classes"
   ]
  },
  {
   "cell_type": "code",
   "execution_count": 39,
   "id": "accessory-palestine",
   "metadata": {
    "execution": {
     "iopub.execute_input": "2021-05-25T03:09:02.206914Z",
     "iopub.status.busy": "2021-05-25T03:09:02.206434Z",
     "iopub.status.idle": "2021-05-25T03:09:02.320112Z",
     "shell.execute_reply": "2021-05-25T03:09:02.319616Z",
     "shell.execute_reply.started": "2021-05-25T02:56:52.099785Z"
    },
    "papermill": {
     "duration": 0.203681,
     "end_time": "2021-05-25T03:09:02.320255",
     "exception": false,
     "start_time": "2021-05-25T03:09:02.116574",
     "status": "completed"
    },
    "tags": []
   },
   "outputs": [],
   "source": [
    "model=m.cuda()"
   ]
  },
  {
   "cell_type": "code",
   "execution_count": 40,
   "id": "scheduled-collapse",
   "metadata": {
    "execution": {
     "iopub.execute_input": "2021-05-25T03:09:02.499839Z",
     "iopub.status.busy": "2021-05-25T03:09:02.499306Z",
     "iopub.status.idle": "2021-05-25T03:09:02.505020Z",
     "shell.execute_reply": "2021-05-25T03:09:02.504619Z",
     "shell.execute_reply.started": "2021-05-25T00:22:54.03717Z"
    },
    "papermill": {
     "duration": 0.097806,
     "end_time": "2021-05-25T03:09:02.505147",
     "exception": false,
     "start_time": "2021-05-25T03:09:02.407341",
     "status": "completed"
    },
    "tags": []
   },
   "outputs": [
    {
     "data": {
      "text/plain": [
       "'/kaggle/working'"
      ]
     },
     "execution_count": 40,
     "metadata": {},
     "output_type": "execute_result"
    }
   ],
   "source": [
    "pwd"
   ]
  },
  {
   "cell_type": "code",
   "execution_count": 41,
   "id": "mounted-internet",
   "metadata": {
    "execution": {
     "iopub.execute_input": "2021-05-25T03:09:02.689903Z",
     "iopub.status.busy": "2021-05-25T03:09:02.689158Z",
     "iopub.status.idle": "2021-05-25T03:09:02.736066Z",
     "shell.execute_reply": "2021-05-25T03:09:02.736516Z",
     "shell.execute_reply.started": "2021-05-25T02:56:57.027451Z"
    },
    "papermill": {
     "duration": 0.138429,
     "end_time": "2021-05-25T03:09:02.736661",
     "exception": false,
     "start_time": "2021-05-25T03:09:02.598232",
     "status": "completed"
    },
    "tags": []
   },
   "outputs": [],
   "source": [
    "from fastai.callbacks import *\n",
    "\n",
    "learn = Learner(data, model, metrics=[error_rate, accuracy])"
   ]
  },
  {
   "cell_type": "code",
   "execution_count": 42,
   "id": "adult-seafood",
   "metadata": {
    "execution": {
     "iopub.execute_input": "2021-05-25T03:09:02.913092Z",
     "iopub.status.busy": "2021-05-25T03:09:02.912344Z",
     "iopub.status.idle": "2021-05-25T03:09:02.914642Z",
     "shell.execute_reply": "2021-05-25T03:09:02.915003Z",
     "shell.execute_reply.started": "2021-05-25T02:57:00.212191Z"
    },
    "papermill": {
     "duration": 0.092008,
     "end_time": "2021-05-25T03:09:02.915156",
     "exception": false,
     "start_time": "2021-05-25T03:09:02.823148",
     "status": "completed"
    },
    "tags": []
   },
   "outputs": [],
   "source": [
    "learn.model_dir='/kaggle/working'"
   ]
  },
  {
   "cell_type": "code",
   "execution_count": 43,
   "id": "minute-abraham",
   "metadata": {
    "execution": {
     "iopub.execute_input": "2021-05-25T03:09:03.091576Z",
     "iopub.status.busy": "2021-05-25T03:09:03.090857Z",
     "iopub.status.idle": "2021-05-25T03:09:03.093688Z",
     "shell.execute_reply": "2021-05-25T03:09:03.093284Z",
     "shell.execute_reply.started": "2021-05-25T02:57:03.575894Z"
    },
    "papermill": {
     "duration": 0.092192,
     "end_time": "2021-05-25T03:09:03.093796",
     "exception": false,
     "start_time": "2021-05-25T03:09:03.001604",
     "status": "completed"
    },
    "tags": []
   },
   "outputs": [],
   "source": [
    "from fastai.callbacks import *\n",
    "\n",
    "\n"
   ]
  },
  {
   "cell_type": "code",
   "execution_count": 44,
   "id": "positive-softball",
   "metadata": {
    "execution": {
     "iopub.execute_input": "2021-05-25T03:09:03.270584Z",
     "iopub.status.busy": "2021-05-25T03:09:03.269777Z",
     "iopub.status.idle": "2021-05-25T03:09:03.272348Z",
     "shell.execute_reply": "2021-05-25T03:09:03.271819Z",
     "shell.execute_reply.started": "2021-05-25T02:57:06.859812Z"
    },
    "papermill": {
     "duration": 0.092494,
     "end_time": "2021-05-25T03:09:03.272455",
     "exception": false,
     "start_time": "2021-05-25T03:09:03.179961",
     "status": "completed"
    },
    "tags": []
   },
   "outputs": [],
   "source": [
    "callbacks = [\n",
    "        SaveModelCallback(learn,monitor='accuracy'),\n",
    "    ]\n",
    "\n",
    "learn.callbacks = callbacks"
   ]
  },
  {
   "cell_type": "code",
   "execution_count": 45,
   "id": "eight-neutral",
   "metadata": {
    "execution": {
     "iopub.execute_input": "2021-05-25T03:09:03.488892Z",
     "iopub.status.busy": "2021-05-25T03:09:03.488143Z",
     "iopub.status.idle": "2021-05-25T03:09:03.491236Z",
     "shell.execute_reply": "2021-05-25T03:09:03.491633Z",
     "shell.execute_reply.started": "2021-05-25T02:57:15.070956Z"
    },
    "papermill": {
     "duration": 0.13272,
     "end_time": "2021-05-25T03:09:03.491758",
     "exception": false,
     "start_time": "2021-05-25T03:09:03.359038",
     "status": "completed"
    },
    "tags": []
   },
   "outputs": [
    {
     "data": {
      "text/plain": [
       "'1.0.61'"
      ]
     },
     "execution_count": 45,
     "metadata": {},
     "output_type": "execute_result"
    }
   ],
   "source": [
    "fastai.__version__"
   ]
  },
  {
   "cell_type": "code",
   "execution_count": 46,
   "id": "printable-friend",
   "metadata": {
    "execution": {
     "iopub.execute_input": "2021-05-25T03:09:03.687227Z",
     "iopub.status.busy": "2021-05-25T03:09:03.684986Z",
     "iopub.status.idle": "2021-05-25T03:09:04.326444Z",
     "shell.execute_reply": "2021-05-25T03:09:04.325769Z",
     "shell.execute_reply.started": "2021-05-25T02:57:15.656619Z"
    },
    "papermill": {
     "duration": 0.747338,
     "end_time": "2021-05-25T03:09:04.326588",
     "exception": false,
     "start_time": "2021-05-25T03:09:03.579250",
     "status": "completed"
    },
    "tags": []
   },
   "outputs": [
    {
     "name": "stdout",
     "output_type": "stream",
     "text": [
      "__notebook__.ipynb\r\n"
     ]
    }
   ],
   "source": [
    "!ls"
   ]
  },
  {
   "cell_type": "code",
   "execution_count": 47,
   "id": "english-thinking",
   "metadata": {
    "execution": {
     "iopub.execute_input": "2021-05-25T03:09:04.506642Z",
     "iopub.status.busy": "2021-05-25T03:09:04.505858Z",
     "iopub.status.idle": "2021-05-25T03:09:04.508520Z",
     "shell.execute_reply": "2021-05-25T03:09:04.508067Z",
     "shell.execute_reply.started": "2021-05-25T00:23:03.543309Z"
    },
    "papermill": {
     "duration": 0.094202,
     "end_time": "2021-05-25T03:09:04.508634",
     "exception": false,
     "start_time": "2021-05-25T03:09:04.414432",
     "status": "completed"
    },
    "tags": []
   },
   "outputs": [],
   "source": [
    "# learn.fit(15,1e-05)"
   ]
  },
  {
   "cell_type": "code",
   "execution_count": 48,
   "id": "animal-playback",
   "metadata": {
    "execution": {
     "iopub.execute_input": "2021-05-25T03:09:04.710767Z",
     "iopub.status.busy": "2021-05-25T03:09:04.709215Z",
     "iopub.status.idle": "2021-05-25T03:09:04.711645Z",
     "shell.execute_reply": "2021-05-25T03:09:04.712101Z"
    },
    "papermill": {
     "duration": 0.105258,
     "end_time": "2021-05-25T03:09:04.712252",
     "exception": false,
     "start_time": "2021-05-25T03:09:04.606994",
     "status": "completed"
    },
    "tags": []
   },
   "outputs": [],
   "source": [
    "# learn.recorder.plot_losses()"
   ]
  },
  {
   "cell_type": "code",
   "execution_count": 49,
   "id": "favorite-regard",
   "metadata": {
    "execution": {
     "iopub.execute_input": "2021-05-25T03:09:04.893630Z",
     "iopub.status.busy": "2021-05-25T03:09:04.892919Z",
     "iopub.status.idle": "2021-05-25T03:09:04.895278Z",
     "shell.execute_reply": "2021-05-25T03:09:04.895702Z"
    },
    "papermill": {
     "duration": 0.09327,
     "end_time": "2021-05-25T03:09:04.895826",
     "exception": false,
     "start_time": "2021-05-25T03:09:04.802556",
     "status": "completed"
    },
    "tags": []
   },
   "outputs": [],
   "source": [
    "# learn.save('unfreeze_model')"
   ]
  },
  {
   "cell_type": "code",
   "execution_count": 50,
   "id": "statutory-royalty",
   "metadata": {
    "execution": {
     "iopub.execute_input": "2021-05-25T03:09:05.075409Z",
     "iopub.status.busy": "2021-05-25T03:09:05.074565Z",
     "iopub.status.idle": "2021-05-25T03:09:05.723442Z",
     "shell.execute_reply": "2021-05-25T03:09:05.722970Z",
     "shell.execute_reply.started": "2021-05-25T02:58:32.516766Z"
    },
    "papermill": {
     "duration": 0.740701,
     "end_time": "2021-05-25T03:09:05.723576",
     "exception": false,
     "start_time": "2021-05-25T03:09:04.982875",
     "status": "completed"
    },
    "tags": []
   },
   "outputs": [
    {
     "name": "stdout",
     "output_type": "stream",
     "text": [
      "__notebook__.ipynb  __results___files  custom.css\r\n",
      "__output__.json     bestmodel.pth      model1.pth\r\n",
      "__results__.html    bestmodel.pth.pth  unfreeze_model.pth\r\n"
     ]
    }
   ],
   "source": [
    "!ls ../input/swimtransformercovid19"
   ]
  },
  {
   "cell_type": "code",
   "execution_count": 51,
   "id": "modified-protection",
   "metadata": {
    "execution": {
     "iopub.execute_input": "2021-05-25T03:09:05.903734Z",
     "iopub.status.busy": "2021-05-25T03:09:05.903182Z",
     "iopub.status.idle": "2021-05-25T04:35:36.693182Z",
     "shell.execute_reply": "2021-05-25T04:35:36.692689Z",
     "shell.execute_reply.started": "2021-05-25T02:58:38.999725Z"
    },
    "papermill": {
     "duration": 5190.881459,
     "end_time": "2021-05-25T04:35:36.693335",
     "exception": false,
     "start_time": "2021-05-25T03:09:05.811876",
     "status": "completed"
    },
    "tags": []
   },
   "outputs": [
    {
     "data": {
      "text/html": [
       "<table border=\"1\" class=\"dataframe\">\n",
       "  <thead>\n",
       "    <tr style=\"text-align: left;\">\n",
       "      <th>epoch</th>\n",
       "      <th>train_loss</th>\n",
       "      <th>valid_loss</th>\n",
       "      <th>error_rate</th>\n",
       "      <th>accuracy</th>\n",
       "      <th>time</th>\n",
       "    </tr>\n",
       "  </thead>\n",
       "  <tbody>\n",
       "    <tr>\n",
       "      <td>0</td>\n",
       "      <td>0.105768</td>\n",
       "      <td>0.148288</td>\n",
       "      <td>0.049680</td>\n",
       "      <td>0.950320</td>\n",
       "      <td>03:28</td>\n",
       "    </tr>\n",
       "    <tr>\n",
       "      <td>1</td>\n",
       "      <td>0.126690</td>\n",
       "      <td>0.157788</td>\n",
       "      <td>0.052140</td>\n",
       "      <td>0.947860</td>\n",
       "      <td>03:26</td>\n",
       "    </tr>\n",
       "    <tr>\n",
       "      <td>2</td>\n",
       "      <td>0.121886</td>\n",
       "      <td>0.141817</td>\n",
       "      <td>0.048205</td>\n",
       "      <td>0.951795</td>\n",
       "      <td>03:25</td>\n",
       "    </tr>\n",
       "    <tr>\n",
       "      <td>3</td>\n",
       "      <td>0.110740</td>\n",
       "      <td>0.158155</td>\n",
       "      <td>0.053123</td>\n",
       "      <td>0.946877</td>\n",
       "      <td>03:25</td>\n",
       "    </tr>\n",
       "    <tr>\n",
       "      <td>4</td>\n",
       "      <td>0.119022</td>\n",
       "      <td>0.140877</td>\n",
       "      <td>0.044761</td>\n",
       "      <td>0.955239</td>\n",
       "      <td>03:25</td>\n",
       "    </tr>\n",
       "    <tr>\n",
       "      <td>5</td>\n",
       "      <td>0.109267</td>\n",
       "      <td>0.157398</td>\n",
       "      <td>0.052140</td>\n",
       "      <td>0.947860</td>\n",
       "      <td>03:26</td>\n",
       "    </tr>\n",
       "    <tr>\n",
       "      <td>6</td>\n",
       "      <td>0.096656</td>\n",
       "      <td>0.137475</td>\n",
       "      <td>0.048205</td>\n",
       "      <td>0.951795</td>\n",
       "      <td>03:27</td>\n",
       "    </tr>\n",
       "    <tr>\n",
       "      <td>7</td>\n",
       "      <td>0.107449</td>\n",
       "      <td>0.147651</td>\n",
       "      <td>0.049680</td>\n",
       "      <td>0.950320</td>\n",
       "      <td>03:26</td>\n",
       "    </tr>\n",
       "    <tr>\n",
       "      <td>8</td>\n",
       "      <td>0.091351</td>\n",
       "      <td>0.152641</td>\n",
       "      <td>0.049188</td>\n",
       "      <td>0.950812</td>\n",
       "      <td>03:26</td>\n",
       "    </tr>\n",
       "    <tr>\n",
       "      <td>9</td>\n",
       "      <td>0.104726</td>\n",
       "      <td>0.140291</td>\n",
       "      <td>0.047713</td>\n",
       "      <td>0.952287</td>\n",
       "      <td>03:27</td>\n",
       "    </tr>\n",
       "    <tr>\n",
       "      <td>10</td>\n",
       "      <td>0.095075</td>\n",
       "      <td>0.144008</td>\n",
       "      <td>0.049680</td>\n",
       "      <td>0.950320</td>\n",
       "      <td>03:27</td>\n",
       "    </tr>\n",
       "    <tr>\n",
       "      <td>11</td>\n",
       "      <td>0.112627</td>\n",
       "      <td>0.153322</td>\n",
       "      <td>0.050664</td>\n",
       "      <td>0.949336</td>\n",
       "      <td>03:26</td>\n",
       "    </tr>\n",
       "    <tr>\n",
       "      <td>12</td>\n",
       "      <td>0.094688</td>\n",
       "      <td>0.163222</td>\n",
       "      <td>0.051156</td>\n",
       "      <td>0.948844</td>\n",
       "      <td>03:27</td>\n",
       "    </tr>\n",
       "    <tr>\n",
       "      <td>13</td>\n",
       "      <td>0.104332</td>\n",
       "      <td>0.154239</td>\n",
       "      <td>0.051156</td>\n",
       "      <td>0.948844</td>\n",
       "      <td>03:27</td>\n",
       "    </tr>\n",
       "    <tr>\n",
       "      <td>14</td>\n",
       "      <td>0.103991</td>\n",
       "      <td>0.134732</td>\n",
       "      <td>0.044761</td>\n",
       "      <td>0.955239</td>\n",
       "      <td>03:27</td>\n",
       "    </tr>\n",
       "    <tr>\n",
       "      <td>15</td>\n",
       "      <td>0.099731</td>\n",
       "      <td>0.143569</td>\n",
       "      <td>0.049680</td>\n",
       "      <td>0.950320</td>\n",
       "      <td>03:26</td>\n",
       "    </tr>\n",
       "    <tr>\n",
       "      <td>16</td>\n",
       "      <td>0.110712</td>\n",
       "      <td>0.151710</td>\n",
       "      <td>0.050172</td>\n",
       "      <td>0.949828</td>\n",
       "      <td>03:26</td>\n",
       "    </tr>\n",
       "    <tr>\n",
       "      <td>17</td>\n",
       "      <td>0.103056</td>\n",
       "      <td>0.166454</td>\n",
       "      <td>0.052140</td>\n",
       "      <td>0.947860</td>\n",
       "      <td>03:26</td>\n",
       "    </tr>\n",
       "    <tr>\n",
       "      <td>18</td>\n",
       "      <td>0.094962</td>\n",
       "      <td>0.145252</td>\n",
       "      <td>0.049188</td>\n",
       "      <td>0.950812</td>\n",
       "      <td>03:27</td>\n",
       "    </tr>\n",
       "    <tr>\n",
       "      <td>19</td>\n",
       "      <td>0.105264</td>\n",
       "      <td>0.140400</td>\n",
       "      <td>0.045745</td>\n",
       "      <td>0.954255</td>\n",
       "      <td>03:27</td>\n",
       "    </tr>\n",
       "    <tr>\n",
       "      <td>20</td>\n",
       "      <td>0.098984</td>\n",
       "      <td>0.148990</td>\n",
       "      <td>0.050172</td>\n",
       "      <td>0.949828</td>\n",
       "      <td>03:26</td>\n",
       "    </tr>\n",
       "    <tr>\n",
       "      <td>21</td>\n",
       "      <td>0.105005</td>\n",
       "      <td>0.144035</td>\n",
       "      <td>0.046237</td>\n",
       "      <td>0.953763</td>\n",
       "      <td>03:27</td>\n",
       "    </tr>\n",
       "    <tr>\n",
       "      <td>22</td>\n",
       "      <td>0.094138</td>\n",
       "      <td>0.137882</td>\n",
       "      <td>0.047221</td>\n",
       "      <td>0.952779</td>\n",
       "      <td>03:27</td>\n",
       "    </tr>\n",
       "    <tr>\n",
       "      <td>23</td>\n",
       "      <td>0.100009</td>\n",
       "      <td>0.154016</td>\n",
       "      <td>0.050664</td>\n",
       "      <td>0.949336</td>\n",
       "      <td>03:27</td>\n",
       "    </tr>\n",
       "    <tr>\n",
       "      <td>24</td>\n",
       "      <td>0.087351</td>\n",
       "      <td>0.134694</td>\n",
       "      <td>0.046237</td>\n",
       "      <td>0.953763</td>\n",
       "      <td>03:27</td>\n",
       "    </tr>\n",
       "  </tbody>\n",
       "</table>"
      ],
      "text/plain": [
       "<IPython.core.display.HTML object>"
      ]
     },
     "metadata": {},
     "output_type": "display_data"
    },
    {
     "name": "stdout",
     "output_type": "stream",
     "text": [
      "Better model found at epoch 0 with accuracy value: 0.9503197073936462.\n",
      "Better model found at epoch 2 with accuracy value: 0.9517953991889954.\n",
      "Better model found at epoch 4 with accuracy value: 0.9552385807037354.\n"
     ]
    }
   ],
   "source": [
    "learn.load('../input/swimtransformercovid19/bestmodel')\n",
    "learn.unfreeze()\n",
    "learn.fit(25,1e-06)\n"
   ]
  },
  {
   "cell_type": "code",
   "execution_count": 52,
   "id": "stupid-error",
   "metadata": {
    "execution": {
     "iopub.execute_input": "2021-05-25T04:35:36.896284Z",
     "iopub.status.busy": "2021-05-25T04:35:36.895352Z",
     "iopub.status.idle": "2021-05-25T04:35:37.533770Z",
     "shell.execute_reply": "2021-05-25T04:35:37.533272Z",
     "shell.execute_reply.started": "2021-05-25T03:04:44.365106Z"
    },
    "papermill": {
     "duration": 0.751107,
     "end_time": "2021-05-25T04:35:37.533907",
     "exception": false,
     "start_time": "2021-05-25T04:35:36.782800",
     "status": "completed"
    },
    "tags": []
   },
   "outputs": [
    {
     "name": "stdout",
     "output_type": "stream",
     "text": [
      "__notebook__.ipynb  bestmodel.pth\r\n"
     ]
    }
   ],
   "source": [
    "!ls"
   ]
  },
  {
   "cell_type": "code",
   "execution_count": 53,
   "id": "dirty-bench",
   "metadata": {
    "execution": {
     "iopub.execute_input": "2021-05-25T04:35:37.720645Z",
     "iopub.status.busy": "2021-05-25T04:35:37.717993Z",
     "iopub.status.idle": "2021-05-25T04:35:55.547913Z",
     "shell.execute_reply": "2021-05-25T04:35:55.547464Z",
     "shell.execute_reply.started": "2021-05-25T03:04:50.321532Z"
    },
    "papermill": {
     "duration": 17.923727,
     "end_time": "2021-05-25T04:35:55.548052",
     "exception": false,
     "start_time": "2021-05-25T04:35:37.624325",
     "status": "completed"
    },
    "tags": []
   },
   "outputs": [
    {
     "data": {
      "text/html": [],
      "text/plain": [
       "<IPython.core.display.HTML object>"
      ]
     },
     "metadata": {},
     "output_type": "display_data"
    }
   ],
   "source": [
    "learn.load('bestmodel')\n",
    "preds,y,losses = learn.get_preds(with_loss=True)\n",
    "interp = ClassificationInterpretation(learn, preds, y, losses)"
   ]
  },
  {
   "cell_type": "code",
   "execution_count": 54,
   "id": "consolidated-context",
   "metadata": {
    "execution": {
     "iopub.execute_input": "2021-05-25T04:35:55.732996Z",
     "iopub.status.busy": "2021-05-25T04:35:55.732478Z",
     "iopub.status.idle": "2021-05-25T04:35:55.993319Z",
     "shell.execute_reply": "2021-05-25T04:35:55.994480Z",
     "shell.execute_reply.started": "2021-05-25T03:05:17.105760Z"
    },
    "papermill": {
     "duration": 0.356244,
     "end_time": "2021-05-25T04:35:55.994725",
     "exception": false,
     "start_time": "2021-05-25T04:35:55.638481",
     "status": "completed"
    },
    "tags": []
   },
   "outputs": [
    {
     "data": {
      "image/png": "[encoded data removed]",
      "text/plain": [
       "<Figure size 432x288 with 1 Axes>"
      ]
     },
     "metadata": {
      "needs_background": "light"
     },
     "output_type": "display_data"
    }
   ],
   "source": [
    "interp.plot_confusion_matrix()"
   ]
  },
  {
   "cell_type": "code",
   "execution_count": null,
   "id": "million-check",
   "metadata": {
    "execution": {
     "iopub.execute_input": "2021-05-24T16:59:03.143522Z",
     "iopub.status.busy": "2021-05-24T16:59:03.143151Z",
     "iopub.status.idle": "2021-05-24T16:59:05.255627Z",
     "shell.execute_reply": "2021-05-24T16:59:05.254691Z",
     "shell.execute_reply.started": "2021-05-24T16:59:03.143483Z"
    },
    "papermill": {
     "duration": 0.090657,
     "end_time": "2021-05-25T04:35:56.182436",
     "exception": false,
     "start_time": "2021-05-25T04:35:56.091779",
     "status": "completed"
    },
    "tags": []
   },
   "outputs": [],
   "source": []
  },
  {
   "cell_type": "code",
   "execution_count": null,
   "id": "subjective-insight",
   "metadata": {
    "papermill": {
     "duration": 0.090393,
     "end_time": "2021-05-25T04:35:56.364713",
     "exception": false,
     "start_time": "2021-05-25T04:35:56.274320",
     "status": "completed"
    },
    "tags": []
   },
   "outputs": [],
   "source": []
  },
  {
   "cell_type": "code",
   "execution_count": null,
   "id": "adaptive-charger",
   "metadata": {
    "papermill": {
     "duration": 0.090178,
     "end_time": "2021-05-25T04:35:56.544855",
     "exception": false,
     "start_time": "2021-05-25T04:35:56.454677",
     "status": "completed"
    },
    "tags": []
   },
   "outputs": [],
   "source": []
  },
  {
   "cell_type": "code",
   "execution_count": null,
   "id": "shared-freight",
   "metadata": {
    "papermill": {
     "duration": 0.09,
     "end_time": "2021-05-25T04:35:56.725687",
     "exception": false,
     "start_time": "2021-05-25T04:35:56.635687",
     "status": "completed"
    },
    "tags": []
   },
   "outputs": [],
   "source": []
  },
  {
   "cell_type": "code",
   "execution_count": null,
   "id": "metric-hepatitis",
   "metadata": {
    "papermill": {
     "duration": 0.090174,
     "end_time": "2021-05-25T04:35:56.906735",
     "exception": false,
     "start_time": "2021-05-25T04:35:56.816561",
     "status": "completed"
    },
    "tags": []
   },
   "outputs": [],
   "source": []
  },
  {
   "cell_type": "code",
   "execution_count": null,
   "id": "pointed-violation",
   "metadata": {
    "papermill": {
     "duration": 0.090406,
     "end_time": "2021-05-25T04:35:57.088253",
     "exception": false,
     "start_time": "2021-05-25T04:35:56.997847",
     "status": "completed"
    },
    "tags": []
   },
   "outputs": [],
   "source": []
  },
  {
   "cell_type": "code",
   "execution_count": null,
   "id": "formed-corporation",
   "metadata": {
    "papermill": {
     "duration": 0.09041,
     "end_time": "2021-05-25T04:35:57.271364",
     "exception": false,
     "start_time": "2021-05-25T04:35:57.180954",
     "status": "completed"
    },
    "tags": []
   },
   "outputs": [],
   "source": []
  },
  {
   "cell_type": "code",
   "execution_count": null,
   "id": "trained-idaho",
   "metadata": {
    "papermill": {
     "duration": 0.091054,
     "end_time": "2021-05-25T04:35:57.454489",
     "exception": false,
     "start_time": "2021-05-25T04:35:57.363435",
     "status": "completed"
    },
    "tags": []
   },
   "outputs": [],
   "source": []
  },
  {
   "cell_type": "code",
   "execution_count": null,
   "id": "suffering-electron",
   "metadata": {
    "papermill": {
     "duration": 0.090347,
     "end_time": "2021-05-25T04:35:57.635799",
     "exception": false,
     "start_time": "2021-05-25T04:35:57.545452",
     "status": "completed"
    },
    "tags": []
   },
   "outputs": [],
   "source": []
  },
  {
   "cell_type": "code",
   "execution_count": null,
   "id": "intense-france",
   "metadata": {
    "papermill": {
     "duration": 0.089761,
     "end_time": "2021-05-25T04:35:57.815568",
     "exception": false,
     "start_time": "2021-05-25T04:35:57.725807",
     "status": "completed"
    },
    "tags": []
   },
   "outputs": [],
   "source": []
  },
  {
   "cell_type": "code",
   "execution_count": null,
   "id": "informative-disease",
   "metadata": {
    "papermill": {
     "duration": 0.089766,
     "end_time": "2021-05-25T04:35:57.995925",
     "exception": false,
     "start_time": "2021-05-25T04:35:57.906159",
     "status": "completed"
    },
    "tags": []
   },
   "outputs": [],
   "source": []
  },
  {
   "cell_type": "code",
   "execution_count": null,
   "id": "nutritional-spank",
   "metadata": {
    "papermill": {
     "duration": 0.090422,
     "end_time": "2021-05-25T04:35:58.177276",
     "exception": false,
     "start_time": "2021-05-25T04:35:58.086854",
     "status": "completed"
    },
    "tags": []
   },
   "outputs": [],
   "source": []
  },
  {
   "cell_type": "code",
   "execution_count": null,
   "id": "imperial-shoulder",
   "metadata": {
    "papermill": {
     "duration": 0.091122,
     "end_time": "2021-05-25T04:35:58.359957",
     "exception": false,
     "start_time": "2021-05-25T04:35:58.268835",
     "status": "completed"
    },
    "tags": []
   },
   "outputs": [],
   "source": []
  },
  {
   "cell_type": "code",
   "execution_count": null,
   "id": "sunrise-sugar",
   "metadata": {
    "papermill": {
     "duration": 0.090539,
     "end_time": "2021-05-25T04:35:58.588571",
     "exception": false,
     "start_time": "2021-05-25T04:35:58.498032",
     "status": "completed"
    },
    "tags": []
   },
   "outputs": [],
   "source": []
  },
  {
   "cell_type": "code",
   "execution_count": null,
   "id": "later-industry",
   "metadata": {
    "papermill": {
     "duration": 0.090259,
     "end_time": "2021-05-25T04:35:58.769885",
     "exception": false,
     "start_time": "2021-05-25T04:35:58.679626",
     "status": "completed"
    },
    "tags": []
   },
   "outputs": [],
   "source": []
  },
  {
   "cell_type": "code",
   "execution_count": null,
   "id": "associate-fireplace",
   "metadata": {
    "papermill": {
     "duration": 0.091212,
     "end_time": "2021-05-25T04:35:58.952218",
     "exception": false,
     "start_time": "2021-05-25T04:35:58.861006",
     "status": "completed"
    },
    "tags": []
   },
   "outputs": [],
   "source": []
  },
  {
   "cell_type": "code",
   "execution_count": null,
   "id": "dated-surfing",
   "metadata": {
    "papermill": {
     "duration": 0.090979,
     "end_time": "2021-05-25T04:35:59.135044",
     "exception": false,
     "start_time": "2021-05-25T04:35:59.044065",
     "status": "completed"
    },
    "tags": []
   },
   "outputs": [],
   "source": []
  },
  {
   "cell_type": "code",
   "execution_count": null,
   "id": "negative-singapore",
   "metadata": {
    "papermill": {
     "duration": 0.09109,
     "end_time": "2021-05-25T04:35:59.317887",
     "exception": false,
     "start_time": "2021-05-25T04:35:59.226797",
     "status": "completed"
    },
    "tags": []
   },
   "outputs": [],
   "source": []
  },
  {
   "cell_type": "code",
   "execution_count": null,
   "id": "applicable-protection",
   "metadata": {
    "papermill": {
     "duration": 0.091059,
     "end_time": "2021-05-25T04:35:59.499745",
     "exception": false,
     "start_time": "2021-05-25T04:35:59.408686",
     "status": "completed"
    },
    "tags": []
   },
   "outputs": [],
   "source": []
  },
  {
   "cell_type": "code",
   "execution_count": null,
   "id": "smaller-contents",
   "metadata": {
    "papermill": {
     "duration": 0.09004,
     "end_time": "2021-05-25T04:35:59.681046",
     "exception": false,
     "start_time": "2021-05-25T04:35:59.591006",
     "status": "completed"
    },
    "tags": []
   },
   "outputs": [],
   "source": []
  },
  {
   "cell_type": "code",
   "execution_count": null,
   "id": "connected-welcome",
   "metadata": {
    "papermill": {
     "duration": 0.090459,
     "end_time": "2021-05-25T04:35:59.863516",
     "exception": false,
     "start_time": "2021-05-25T04:35:59.773057",
     "status": "completed"
    },
    "tags": []
   },
   "outputs": [],
   "source": []
  },
  {
   "cell_type": "code",
   "execution_count": null,
   "id": "physical-andrew",
   "metadata": {
    "papermill": {
     "duration": 0.090916,
     "end_time": "2021-05-25T04:36:00.045033",
     "exception": false,
     "start_time": "2021-05-25T04:35:59.954117",
     "status": "completed"
    },
    "tags": []
   },
   "outputs": [],
   "source": []
  },
  {
   "cell_type": "code",
   "execution_count": null,
   "id": "naughty-frequency",
   "metadata": {
    "papermill": {
     "duration": 0.090551,
     "end_time": "2021-05-25T04:36:00.226318",
     "exception": false,
     "start_time": "2021-05-25T04:36:00.135767",
     "status": "completed"
    },
    "tags": []
   },
   "outputs": [],
   "source": []
  },
  {
   "cell_type": "code",
   "execution_count": null,
   "id": "norman-photograph",
   "metadata": {
    "papermill": {
     "duration": 0.090477,
     "end_time": "2021-05-25T04:36:00.408016",
     "exception": false,
     "start_time": "2021-05-25T04:36:00.317539",
     "status": "completed"
    },
    "tags": []
   },
   "outputs": [],
   "source": []
  },
  {
   "cell_type": "code",
   "execution_count": null,
   "id": "neutral-service",
   "metadata": {
    "papermill": {
     "duration": 0.091024,
     "end_time": "2021-05-25T04:36:00.590264",
     "exception": false,
     "start_time": "2021-05-25T04:36:00.499240",
     "status": "completed"
    },
    "tags": []
   },
   "outputs": [],
   "source": []
  },
  {
   "cell_type": "code",
   "execution_count": null,
   "id": "fleet-memorial",
   "metadata": {
    "papermill": {
     "duration": 0.096298,
     "end_time": "2021-05-25T04:36:00.777404",
     "exception": false,
     "start_time": "2021-05-25T04:36:00.681106",
     "status": "completed"
    },
    "tags": []
   },
   "outputs": [],
   "source": []
  },
  {
   "cell_type": "code",
   "execution_count": null,
   "id": "listed-gospel",
   "metadata": {
    "papermill": {
     "duration": 0.091008,
     "end_time": "2021-05-25T04:36:00.959057",
     "exception": false,
     "start_time": "2021-05-25T04:36:00.868049",
     "status": "completed"
    },
    "tags": []
   },
   "outputs": [],
   "source": []
  },
  {
   "cell_type": "code",
   "execution_count": null,
   "id": "brief-explanation",
   "metadata": {
    "papermill": {
     "duration": 0.090208,
     "end_time": "2021-05-25T04:36:01.139406",
     "exception": false,
     "start_time": "2021-05-25T04:36:01.049198",
     "status": "completed"
    },
    "tags": []
   },
   "outputs": [],
   "source": []
  },
  {
   "cell_type": "code",
   "execution_count": null,
   "id": "broad-billy",
   "metadata": {
    "papermill": {
     "duration": 0.09055,
     "end_time": "2021-05-25T04:36:01.320324",
     "exception": false,
     "start_time": "2021-05-25T04:36:01.229774",
     "status": "completed"
    },
    "tags": []
   },
   "outputs": [],
   "source": []
  },
  {
   "cell_type": "code",
   "execution_count": null,
   "id": "prompt-accent",
   "metadata": {
    "papermill": {
     "duration": 0.089918,
     "end_time": "2021-05-25T04:36:01.500643",
     "exception": false,
     "start_time": "2021-05-25T04:36:01.410725",
     "status": "completed"
    },
    "tags": []
   },
   "outputs": [],
   "source": []
  },
  {
   "cell_type": "code",
   "execution_count": null,
   "id": "cloudy-convenience",
   "metadata": {
    "papermill": {
     "duration": 0.099526,
     "end_time": "2021-05-25T04:36:01.690871",
     "exception": false,
     "start_time": "2021-05-25T04:36:01.591345",
     "status": "completed"
    },
    "tags": []
   },
   "outputs": [],
   "source": []
  },
  {
   "cell_type": "code",
   "execution_count": null,
   "id": "composite-luther",
   "metadata": {
    "papermill": {
     "duration": 0.090188,
     "end_time": "2021-05-25T04:36:01.872025",
     "exception": false,
     "start_time": "2021-05-25T04:36:01.781837",
     "status": "completed"
    },
    "tags": []
   },
   "outputs": [],
   "source": []
  },
  {
   "cell_type": "code",
   "execution_count": null,
   "id": "aerial-month",
   "metadata": {
    "papermill": {
     "duration": 0.090607,
     "end_time": "2021-05-25T04:36:02.053058",
     "exception": false,
     "start_time": "2021-05-25T04:36:01.962451",
     "status": "completed"
    },
    "tags": []
   },
   "outputs": [],
   "source": []
  },
  {
   "cell_type": "code",
   "execution_count": null,
   "id": "informational-thomas",
   "metadata": {
    "papermill": {
     "duration": 0.090803,
     "end_time": "2021-05-25T04:36:02.235197",
     "exception": false,
     "start_time": "2021-05-25T04:36:02.144394",
     "status": "completed"
    },
    "tags": []
   },
   "outputs": [],
   "source": []
  },
  {
   "cell_type": "code",
   "execution_count": null,
   "id": "emotional-convergence",
   "metadata": {
    "papermill": {
     "duration": 0.090329,
     "end_time": "2021-05-25T04:36:02.416203",
     "exception": false,
     "start_time": "2021-05-25T04:36:02.325874",
     "status": "completed"
    },
    "tags": []
   },
   "outputs": [],
   "source": []
  },
  {
   "cell_type": "code",
   "execution_count": null,
   "id": "crucial-appraisal",
   "metadata": {
    "papermill": {
     "duration": 0.096531,
     "end_time": "2021-05-25T04:36:02.602852",
     "exception": false,
     "start_time": "2021-05-25T04:36:02.506321",
     "status": "completed"
    },
    "tags": []
   },
   "outputs": [],
   "source": []
  },
  {
   "cell_type": "code",
   "execution_count": null,
   "id": "involved-astrology",
   "metadata": {
    "papermill": {
     "duration": 0.090068,
     "end_time": "2021-05-25T04:36:02.785854",
     "exception": false,
     "start_time": "2021-05-25T04:36:02.695786",
     "status": "completed"
    },
    "tags": []
   },
   "outputs": [],
   "source": []
  },
  {
   "cell_type": "code",
   "execution_count": null,
   "id": "informal-airfare",
   "metadata": {
    "papermill": {
     "duration": 0.089608,
     "end_time": "2021-05-25T04:36:02.965332",
     "exception": false,
     "start_time": "2021-05-25T04:36:02.875724",
     "status": "completed"
    },
    "tags": []
   },
   "outputs": [],
   "source": []
  },
  {
   "cell_type": "code",
   "execution_count": null,
   "id": "miniature-reply",
   "metadata": {
    "papermill": {
     "duration": 0.089368,
     "end_time": "2021-05-25T04:36:03.144835",
     "exception": false,
     "start_time": "2021-05-25T04:36:03.055467",
     "status": "completed"
    },
    "tags": []
   },
   "outputs": [],
   "source": []
  },
  {
   "cell_type": "code",
   "execution_count": null,
   "id": "neither-mention",
   "metadata": {
    "papermill": {
     "duration": 0.090186,
     "end_time": "2021-05-25T04:36:03.324943",
     "exception": false,
     "start_time": "2021-05-25T04:36:03.234757",
     "status": "completed"
    },
    "tags": []
   },
   "outputs": [],
   "source": []
  },
  {
   "cell_type": "code",
   "execution_count": null,
   "id": "organic-exclusion",
   "metadata": {
    "papermill": {
     "duration": 0.090025,
     "end_time": "2021-05-25T04:36:03.506268",
     "exception": false,
     "start_time": "2021-05-25T04:36:03.416243",
     "status": "completed"
    },
    "tags": []
   },
   "outputs": [],
   "source": []
  },
  {
   "cell_type": "code",
   "execution_count": null,
   "id": "dietary-coordinate",
   "metadata": {
    "papermill": {
     "duration": 0.114925,
     "end_time": "2021-05-25T04:36:03.712348",
     "exception": false,
     "start_time": "2021-05-25T04:36:03.597423",
     "status": "completed"
    },
    "tags": []
   },
   "outputs": [],
   "source": []
  },
  {
   "cell_type": "code",
   "execution_count": null,
   "id": "quiet-zambia",
   "metadata": {
    "papermill": {
     "duration": 0.152837,
     "end_time": "2021-05-25T04:36:04.021167",
     "exception": false,
     "start_time": "2021-05-25T04:36:03.868330",
     "status": "completed"
    },
    "tags": []
   },
   "outputs": [],
   "source": []
  },
  {
   "cell_type": "code",
   "execution_count": 55,
   "id": "static-sussex",
   "metadata": {
    "execution": {
     "iopub.execute_input": "2021-05-25T04:36:04.270427Z",
     "iopub.status.busy": "2021-05-25T04:36:04.269656Z",
     "iopub.status.idle": "2021-05-25T04:36:06.095643Z",
     "shell.execute_reply": "2021-05-25T04:36:06.095116Z",
     "shell.execute_reply.started": "2021-05-24T15:38:31.969634Z"
    },
    "papermill": {
     "duration": 1.923684,
     "end_time": "2021-05-25T04:36:06.095775",
     "exception": false,
     "start_time": "2021-05-25T04:36:04.172091",
     "status": "completed"
    },
    "tags": []
   },
   "outputs": [],
   "source": [
    "learn.save('bestmodel.pth')"
   ]
  },
  {
   "cell_type": "code",
   "execution_count": null,
   "id": "wooden-starter",
   "metadata": {
    "papermill": {
     "duration": 0.090306,
     "end_time": "2021-05-25T04:36:06.277428",
     "exception": false,
     "start_time": "2021-05-25T04:36:06.187122",
     "status": "completed"
    },
    "tags": []
   },
   "outputs": [],
   "source": []
  },
  {
   "cell_type": "code",
   "execution_count": null,
   "id": "billion-accent",
   "metadata": {
    "papermill": {
     "duration": 0.089565,
     "end_time": "2021-05-25T04:36:06.458386",
     "exception": false,
     "start_time": "2021-05-25T04:36:06.368821",
     "status": "completed"
    },
    "tags": []
   },
   "outputs": [],
   "source": []
  },
  {
   "cell_type": "code",
   "execution_count": null,
   "id": "sustained-shooting",
   "metadata": {
    "papermill": {
     "duration": 0.092685,
     "end_time": "2021-05-25T04:36:06.644257",
     "exception": false,
     "start_time": "2021-05-25T04:36:06.551572",
     "status": "completed"
    },
    "tags": []
   },
   "outputs": [],
   "source": []
  },
  {
   "cell_type": "code",
   "execution_count": null,
   "id": "noticed-ready",
   "metadata": {
    "papermill": {
     "duration": 0.091232,
     "end_time": "2021-05-25T04:36:06.826807",
     "exception": false,
     "start_time": "2021-05-25T04:36:06.735575",
     "status": "completed"
    },
    "tags": []
   },
   "outputs": [],
   "source": []
  },
  {
   "cell_type": "code",
   "execution_count": null,
   "id": "dying-marsh",
   "metadata": {
    "papermill": {
     "duration": 0.092175,
     "end_time": "2021-05-25T04:36:07.040118",
     "exception": false,
     "start_time": "2021-05-25T04:36:06.947943",
     "status": "completed"
    },
    "tags": []
   },
   "outputs": [],
   "source": []
  },
  {
   "cell_type": "code",
   "execution_count": null,
   "id": "separate-aside",
   "metadata": {
    "papermill": {
     "duration": 0.090971,
     "end_time": "2021-05-25T04:36:07.223841",
     "exception": false,
     "start_time": "2021-05-25T04:36:07.132870",
     "status": "completed"
    },
    "tags": []
   },
   "outputs": [],
   "source": []
  },
  {
   "cell_type": "code",
   "execution_count": null,
   "id": "alive-element",
   "metadata": {
    "papermill": {
     "duration": 0.092382,
     "end_time": "2021-05-25T04:36:07.407515",
     "exception": false,
     "start_time": "2021-05-25T04:36:07.315133",
     "status": "completed"
    },
    "tags": []
   },
   "outputs": [],
   "source": []
  },
  {
   "cell_type": "code",
   "execution_count": null,
   "id": "theoretical-grill",
   "metadata": {
    "papermill": {
     "duration": 0.093855,
     "end_time": "2021-05-25T04:36:07.593058",
     "exception": false,
     "start_time": "2021-05-25T04:36:07.499203",
     "status": "completed"
    },
    "tags": []
   },
   "outputs": [],
   "source": []
  },
  {
   "cell_type": "code",
   "execution_count": null,
   "id": "blank-suffering",
   "metadata": {
    "papermill": {
     "duration": 0.096853,
     "end_time": "2021-05-25T04:36:07.781078",
     "exception": false,
     "start_time": "2021-05-25T04:36:07.684225",
     "status": "completed"
    },
    "tags": []
   },
   "outputs": [],
   "source": []
  },
  {
   "cell_type": "code",
   "execution_count": null,
   "id": "negative-congress",
   "metadata": {
    "papermill": {
     "duration": 0.09101,
     "end_time": "2021-05-25T04:36:07.964623",
     "exception": false,
     "start_time": "2021-05-25T04:36:07.873613",
     "status": "completed"
    },
    "tags": []
   },
   "outputs": [],
   "source": []
  },
  {
   "cell_type": "code",
   "execution_count": null,
   "id": "inappropriate-spectrum",
   "metadata": {
    "papermill": {
     "duration": 0.091231,
     "end_time": "2021-05-25T04:36:08.147866",
     "exception": false,
     "start_time": "2021-05-25T04:36:08.056635",
     "status": "completed"
    },
    "tags": []
   },
   "outputs": [],
   "source": []
  },
  {
   "cell_type": "code",
   "execution_count": null,
   "id": "female-expression",
   "metadata": {
    "papermill": {
     "duration": 0.090417,
     "end_time": "2021-05-25T04:36:08.329529",
     "exception": false,
     "start_time": "2021-05-25T04:36:08.239112",
     "status": "completed"
    },
    "tags": []
   },
   "outputs": [],
   "source": []
  },
  {
   "cell_type": "code",
   "execution_count": null,
   "id": "going-camping",
   "metadata": {
    "papermill": {
     "duration": 0.09057,
     "end_time": "2021-05-25T04:36:08.512351",
     "exception": false,
     "start_time": "2021-05-25T04:36:08.421781",
     "status": "completed"
    },
    "tags": []
   },
   "outputs": [],
   "source": []
  },
  {
   "cell_type": "code",
   "execution_count": 56,
   "id": "latest-violation",
   "metadata": {
    "execution": {
     "iopub.execute_input": "2021-05-25T04:36:08.702571Z",
     "iopub.status.busy": "2021-05-25T04:36:08.701821Z",
     "iopub.status.idle": "2021-05-25T04:36:08.912044Z",
     "shell.execute_reply": "2021-05-25T04:36:08.912598Z",
     "shell.execute_reply.started": "2021-05-24T15:38:12.405105Z"
    },
    "papermill": {
     "duration": 0.305952,
     "end_time": "2021-05-25T04:36:08.912766",
     "exception": false,
     "start_time": "2021-05-25T04:36:08.606814",
     "status": "completed"
    },
    "tags": []
   },
   "outputs": [
    {
     "ename": "AttributeError",
     "evalue": "'NoneType' object has no attribute 'flush'",
     "output_type": "error",
     "traceback": [
      "\u001b[0;31m---------------------------------------------------------------------------\u001b[0m",
      "\u001b[0;31mAttributeError\u001b[0m                            Traceback (most recent call last)",
      "\u001b[0;32m/opt/conda/lib/python3.7/site-packages/torch/serialization.py\u001b[0m in \u001b[0;36msave\u001b[0;34m(obj, f, pickle_module, pickle_protocol, _use_new_zipfile_serialization)\u001b[0m\n\u001b[1;32m    371\u001b[0m             \u001b[0;32mwith\u001b[0m \u001b[0m_open_zipfile_writer\u001b[0m\u001b[0;34m(\u001b[0m\u001b[0mopened_file\u001b[0m\u001b[0;34m)\u001b[0m \u001b[0;32mas\u001b[0m \u001b[0mopened_zipfile\u001b[0m\u001b[0;34m:\u001b[0m\u001b[0;34m\u001b[0m\u001b[0;34m\u001b[0m\u001b[0m\n\u001b[0;32m--> 372\u001b[0;31m                 \u001b[0m_save\u001b[0m\u001b[0;34m(\u001b[0m\u001b[0mobj\u001b[0m\u001b[0;34m,\u001b[0m \u001b[0mopened_zipfile\u001b[0m\u001b[0;34m,\u001b[0m \u001b[0mpickle_module\u001b[0m\u001b[0;34m,\u001b[0m \u001b[0mpickle_protocol\u001b[0m\u001b[0;34m)\u001b[0m\u001b[0;34m\u001b[0m\u001b[0;34m\u001b[0m\u001b[0m\n\u001b[0m\u001b[1;32m    373\u001b[0m                 \u001b[0;32mreturn\u001b[0m\u001b[0;34m\u001b[0m\u001b[0;34m\u001b[0m\u001b[0m\n",
      "\u001b[0;32m/opt/conda/lib/python3.7/site-packages/torch/serialization.py\u001b[0m in \u001b[0;36m_save\u001b[0;34m(obj, zip_file, pickle_module, pickle_protocol)\u001b[0m\n\u001b[1;32m    477\u001b[0m     \u001b[0mdata_value\u001b[0m \u001b[0;34m=\u001b[0m \u001b[0mdata_buf\u001b[0m\u001b[0;34m.\u001b[0m\u001b[0mgetvalue\u001b[0m\u001b[0;34m(\u001b[0m\u001b[0;34m)\u001b[0m\u001b[0;34m\u001b[0m\u001b[0;34m\u001b[0m\u001b[0m\n\u001b[0;32m--> 478\u001b[0;31m     \u001b[0mzip_file\u001b[0m\u001b[0;34m.\u001b[0m\u001b[0mwrite_record\u001b[0m\u001b[0;34m(\u001b[0m\u001b[0;34m'data.pkl'\u001b[0m\u001b[0;34m,\u001b[0m \u001b[0mdata_value\u001b[0m\u001b[0;34m,\u001b[0m \u001b[0mlen\u001b[0m\u001b[0;34m(\u001b[0m\u001b[0mdata_value\u001b[0m\u001b[0;34m)\u001b[0m\u001b[0;34m)\u001b[0m\u001b[0;34m\u001b[0m\u001b[0;34m\u001b[0m\u001b[0m\n\u001b[0m\u001b[1;32m    479\u001b[0m \u001b[0;34m\u001b[0m\u001b[0m\n",
      "\u001b[0;31mAttributeError\u001b[0m: 'NoneType' object has no attribute 'write'",
      "\nDuring handling of the above exception, another exception occurred:\n",
      "\u001b[0;31mAttributeError\u001b[0m                            Traceback (most recent call last)",
      "\u001b[0;32m/opt/conda/lib/python3.7/site-packages/torch/serialization.py\u001b[0m in \u001b[0;36msave\u001b[0;34m(obj, f, pickle_module, pickle_protocol, _use_new_zipfile_serialization)\u001b[0m\n\u001b[1;32m    372\u001b[0m                 \u001b[0m_save\u001b[0m\u001b[0;34m(\u001b[0m\u001b[0mobj\u001b[0m\u001b[0;34m,\u001b[0m \u001b[0mopened_zipfile\u001b[0m\u001b[0;34m,\u001b[0m \u001b[0mpickle_module\u001b[0m\u001b[0;34m,\u001b[0m \u001b[0mpickle_protocol\u001b[0m\u001b[0;34m)\u001b[0m\u001b[0;34m\u001b[0m\u001b[0;34m\u001b[0m\u001b[0m\n\u001b[0;32m--> 373\u001b[0;31m                 \u001b[0;32mreturn\u001b[0m\u001b[0;34m\u001b[0m\u001b[0;34m\u001b[0m\u001b[0m\n\u001b[0m\u001b[1;32m    374\u001b[0m         \u001b[0m_legacy_save\u001b[0m\u001b[0;34m(\u001b[0m\u001b[0mobj\u001b[0m\u001b[0;34m,\u001b[0m \u001b[0mopened_file\u001b[0m\u001b[0;34m,\u001b[0m \u001b[0mpickle_module\u001b[0m\u001b[0;34m,\u001b[0m \u001b[0mpickle_protocol\u001b[0m\u001b[0;34m)\u001b[0m\u001b[0;34m\u001b[0m\u001b[0;34m\u001b[0m\u001b[0m\n",
      "\u001b[0;32m/opt/conda/lib/python3.7/site-packages/torch/serialization.py\u001b[0m in \u001b[0;36m__exit__\u001b[0;34m(self, *args)\u001b[0m\n\u001b[1;32m    258\u001b[0m     \u001b[0;32mdef\u001b[0m \u001b[0m__exit__\u001b[0m\u001b[0;34m(\u001b[0m\u001b[0mself\u001b[0m\u001b[0;34m,\u001b[0m \u001b[0;34m*\u001b[0m\u001b[0margs\u001b[0m\u001b[0;34m)\u001b[0m \u001b[0;34m->\u001b[0m \u001b[0;32mNone\u001b[0m\u001b[0;34m:\u001b[0m\u001b[0;34m\u001b[0m\u001b[0;34m\u001b[0m\u001b[0m\n\u001b[0;32m--> 259\u001b[0;31m         \u001b[0mself\u001b[0m\u001b[0;34m.\u001b[0m\u001b[0mfile_like\u001b[0m\u001b[0;34m.\u001b[0m\u001b[0mwrite_end_of_file\u001b[0m\u001b[0;34m(\u001b[0m\u001b[0;34m)\u001b[0m\u001b[0;34m\u001b[0m\u001b[0;34m\u001b[0m\u001b[0m\n\u001b[0m\u001b[1;32m    260\u001b[0m         \u001b[0mself\u001b[0m\u001b[0;34m.\u001b[0m\u001b[0mbuffer\u001b[0m\u001b[0;34m.\u001b[0m\u001b[0mflush\u001b[0m\u001b[0;34m(\u001b[0m\u001b[0;34m)\u001b[0m\u001b[0;34m\u001b[0m\u001b[0;34m\u001b[0m\u001b[0m\n",
      "\u001b[0;31mAttributeError\u001b[0m: 'NoneType' object has no attribute 'write'",
      "\nDuring handling of the above exception, another exception occurred:\n",
      "\u001b[0;31mAttributeError\u001b[0m                            Traceback (most recent call last)",
      "\u001b[0;32m<ipython-input-56-2d925baeb8ae>\u001b[0m in \u001b[0;36m<module>\u001b[0;34m\u001b[0m\n\u001b[0;32m----> 1\u001b[0;31m \u001b[0mlearn\u001b[0m\u001b[0;34m.\u001b[0m\u001b[0msave\u001b[0m\u001b[0;34m(\u001b[0m\u001b[0;34m)\u001b[0m\u001b[0;34m\u001b[0m\u001b[0;34m\u001b[0m\u001b[0m\n\u001b[0m",
      "\u001b[0;32m/opt/conda/lib/python3.7/site-packages/fastai/basic_train.py\u001b[0m in \u001b[0;36msave\u001b[0;34m(self, file, return_path, with_opt)\u001b[0m\n\u001b[1;32m    252\u001b[0m         \u001b[0;32mif\u001b[0m \u001b[0;32mnot\u001b[0m \u001b[0mwith_opt\u001b[0m\u001b[0;34m:\u001b[0m \u001b[0mstate\u001b[0m \u001b[0;34m=\u001b[0m \u001b[0mget_model\u001b[0m\u001b[0;34m(\u001b[0m\u001b[0mself\u001b[0m\u001b[0;34m.\u001b[0m\u001b[0mmodel\u001b[0m\u001b[0;34m)\u001b[0m\u001b[0;34m.\u001b[0m\u001b[0mstate_dict\u001b[0m\u001b[0;34m(\u001b[0m\u001b[0;34m)\u001b[0m\u001b[0;34m\u001b[0m\u001b[0;34m\u001b[0m\u001b[0m\n\u001b[1;32m    253\u001b[0m         \u001b[0;32melse\u001b[0m\u001b[0;34m:\u001b[0m \u001b[0mstate\u001b[0m \u001b[0;34m=\u001b[0m \u001b[0;34m{\u001b[0m\u001b[0;34m'model'\u001b[0m\u001b[0;34m:\u001b[0m \u001b[0mget_model\u001b[0m\u001b[0;34m(\u001b[0m\u001b[0mself\u001b[0m\u001b[0;34m.\u001b[0m\u001b[0mmodel\u001b[0m\u001b[0;34m)\u001b[0m\u001b[0;34m.\u001b[0m\u001b[0mstate_dict\u001b[0m\u001b[0;34m(\u001b[0m\u001b[0;34m)\u001b[0m\u001b[0;34m,\u001b[0m \u001b[0;34m'opt'\u001b[0m\u001b[0;34m:\u001b[0m\u001b[0mself\u001b[0m\u001b[0;34m.\u001b[0m\u001b[0mopt\u001b[0m\u001b[0;34m.\u001b[0m\u001b[0mstate_dict\u001b[0m\u001b[0;34m(\u001b[0m\u001b[0;34m)\u001b[0m\u001b[0;34m}\u001b[0m\u001b[0;34m\u001b[0m\u001b[0;34m\u001b[0m\u001b[0m\n\u001b[0;32m--> 254\u001b[0;31m         \u001b[0mtorch\u001b[0m\u001b[0;34m.\u001b[0m\u001b[0msave\u001b[0m\u001b[0;34m(\u001b[0m\u001b[0mstate\u001b[0m\u001b[0;34m,\u001b[0m \u001b[0mtarget\u001b[0m\u001b[0;34m)\u001b[0m\u001b[0;34m\u001b[0m\u001b[0;34m\u001b[0m\u001b[0m\n\u001b[0m\u001b[1;32m    255\u001b[0m         \u001b[0;32mif\u001b[0m \u001b[0mreturn_path\u001b[0m\u001b[0;34m:\u001b[0m \u001b[0;32mreturn\u001b[0m \u001b[0mtarget\u001b[0m\u001b[0;34m\u001b[0m\u001b[0;34m\u001b[0m\u001b[0m\n\u001b[1;32m    256\u001b[0m \u001b[0;34m\u001b[0m\u001b[0m\n",
      "\u001b[0;32m/opt/conda/lib/python3.7/site-packages/torch/serialization.py\u001b[0m in \u001b[0;36msave\u001b[0;34m(obj, f, pickle_module, pickle_protocol, _use_new_zipfile_serialization)\u001b[0m\n\u001b[1;32m    372\u001b[0m                 \u001b[0m_save\u001b[0m\u001b[0;34m(\u001b[0m\u001b[0mobj\u001b[0m\u001b[0;34m,\u001b[0m \u001b[0mopened_zipfile\u001b[0m\u001b[0;34m,\u001b[0m \u001b[0mpickle_module\u001b[0m\u001b[0;34m,\u001b[0m \u001b[0mpickle_protocol\u001b[0m\u001b[0;34m)\u001b[0m\u001b[0;34m\u001b[0m\u001b[0;34m\u001b[0m\u001b[0m\n\u001b[1;32m    373\u001b[0m                 \u001b[0;32mreturn\u001b[0m\u001b[0;34m\u001b[0m\u001b[0;34m\u001b[0m\u001b[0m\n\u001b[0;32m--> 374\u001b[0;31m         \u001b[0m_legacy_save\u001b[0m\u001b[0;34m(\u001b[0m\u001b[0mobj\u001b[0m\u001b[0;34m,\u001b[0m \u001b[0mopened_file\u001b[0m\u001b[0;34m,\u001b[0m \u001b[0mpickle_module\u001b[0m\u001b[0;34m,\u001b[0m \u001b[0mpickle_protocol\u001b[0m\u001b[0;34m)\u001b[0m\u001b[0;34m\u001b[0m\u001b[0;34m\u001b[0m\u001b[0m\n\u001b[0m\u001b[1;32m    375\u001b[0m \u001b[0;34m\u001b[0m\u001b[0m\n\u001b[1;32m    376\u001b[0m \u001b[0;34m\u001b[0m\u001b[0m\n",
      "\u001b[0;32m/opt/conda/lib/python3.7/site-packages/torch/serialization.py\u001b[0m in \u001b[0;36m__exit__\u001b[0;34m(self, *args)\u001b[0m\n\u001b[1;32m    223\u001b[0m \u001b[0;32mclass\u001b[0m \u001b[0m_open_buffer_writer\u001b[0m\u001b[0;34m(\u001b[0m\u001b[0m_opener\u001b[0m\u001b[0;34m)\u001b[0m\u001b[0;34m:\u001b[0m\u001b[0;34m\u001b[0m\u001b[0;34m\u001b[0m\u001b[0m\n\u001b[1;32m    224\u001b[0m     \u001b[0;32mdef\u001b[0m \u001b[0m__exit__\u001b[0m\u001b[0;34m(\u001b[0m\u001b[0mself\u001b[0m\u001b[0;34m,\u001b[0m \u001b[0;34m*\u001b[0m\u001b[0margs\u001b[0m\u001b[0;34m)\u001b[0m\u001b[0;34m:\u001b[0m\u001b[0;34m\u001b[0m\u001b[0;34m\u001b[0m\u001b[0m\n\u001b[0;32m--> 225\u001b[0;31m         \u001b[0mself\u001b[0m\u001b[0;34m.\u001b[0m\u001b[0mfile_like\u001b[0m\u001b[0;34m.\u001b[0m\u001b[0mflush\u001b[0m\u001b[0;34m(\u001b[0m\u001b[0;34m)\u001b[0m\u001b[0;34m\u001b[0m\u001b[0;34m\u001b[0m\u001b[0m\n\u001b[0m\u001b[1;32m    226\u001b[0m \u001b[0;34m\u001b[0m\u001b[0m\n\u001b[1;32m    227\u001b[0m \u001b[0;34m\u001b[0m\u001b[0m\n",
      "\u001b[0;31mAttributeError\u001b[0m: 'NoneType' object has no attribute 'flush'"
     ]
    }
   ],
   "source": [
    "learn.save()"
   ]
  },
  {
   "cell_type": "code",
   "execution_count": null,
   "id": "hollow-government",
   "metadata": {
    "papermill": {
     "duration": 0.091205,
     "end_time": "2021-05-25T04:36:09.096166",
     "exception": false,
     "start_time": "2021-05-25T04:36:09.004961",
     "status": "completed"
    },
    "tags": []
   },
   "outputs": [],
   "source": []
  },
  {
   "cell_type": "code",
   "execution_count": 57,
   "id": "loved-biography",
   "metadata": {
    "execution": {
     "iopub.execute_input": "2021-05-25T04:36:09.283976Z",
     "iopub.status.busy": "2021-05-25T04:36:09.283473Z",
     "iopub.status.idle": "2021-05-25T04:36:09.287388Z",
     "shell.execute_reply": "2021-05-25T04:36:09.286981Z"
    },
    "papermill": {
     "duration": 0.099525,
     "end_time": "2021-05-25T04:36:09.287505",
     "exception": false,
     "start_time": "2021-05-25T04:36:09.187980",
     "status": "completed"
    },
    "tags": []
   },
   "outputs": [],
   "source": [
    "# import gc\n",
    "# del model,m\n",
    "# gc.collect()"
   ]
  },
  {
   "cell_type": "code",
   "execution_count": 58,
   "id": "biological-encounter",
   "metadata": {
    "execution": {
     "iopub.execute_input": "2021-05-25T04:36:09.478008Z",
     "iopub.status.busy": "2021-05-25T04:36:09.476518Z",
     "iopub.status.idle": "2021-05-25T04:36:09.478709Z",
     "shell.execute_reply": "2021-05-25T04:36:09.479103Z"
    },
    "papermill": {
     "duration": 0.098881,
     "end_time": "2021-05-25T04:36:09.479259",
     "exception": false,
     "start_time": "2021-05-25T04:36:09.380378",
     "status": "completed"
    },
    "tags": []
   },
   "outputs": [],
   "source": [
    "#     import torch\n",
    "#     torch.cuda.empty_cache()"
   ]
  },
  {
   "cell_type": "code",
   "execution_count": null,
   "id": "occupied-architect",
   "metadata": {
    "papermill": {
     "duration": 0.09243,
     "end_time": "2021-05-25T04:36:09.665021",
     "exception": false,
     "start_time": "2021-05-25T04:36:09.572591",
     "status": "completed"
    },
    "tags": []
   },
   "outputs": [],
   "source": []
  }
 ],
 "metadata": {
  "kernelspec": {
   "display_name": "Python 3",
   "language": "python",
   "name": "python3"
  },
  "language_info": {
   "codemirror_mode": {
    "name": "ipython",
    "version": 3
   },
   "file_extension": ".py",
   "mimetype": "text/x-python",
   "name": "python",
   "nbconvert_exporter": "python",
   "pygments_lexer": "ipython3",
   "version": "3.7.10"
  },
  "papermill": {
   "default_parameters": {},
   "duration": 5296.759939,
   "end_time": "2021-05-25T04:36:11.379442",
   "environment_variables": {},
   "exception": null,
   "input_path": "__notebook__.ipynb",
   "output_path": "__notebook__.ipynb",
   "parameters": {},
   "start_time": "2021-05-25T03:07:54.619503",
   "version": "2.3.3"
  }
 },
 "nbformat": 4,
 "nbformat_minor": 5
}
