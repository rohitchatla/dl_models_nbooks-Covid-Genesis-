{
 "cells": [
  {
   "cell_type": "code",
   "execution_count": 1,
   "metadata": {
    "execution": {
     "iopub.execute_input": "2021-12-26T06:01:37.499796Z",
     "iopub.status.busy": "2021-12-26T06:01:37.498827Z",
     "iopub.status.idle": "2021-12-26T06:01:37.502851Z",
     "shell.execute_reply": "2021-12-26T06:01:37.502209Z",
     "shell.execute_reply.started": "2021-12-26T04:55:47.412253Z"
    },
    "id": "ljraOnwnmIAd",
    "papermill": {
     "duration": 0.04946,
     "end_time": "2021-12-26T06:01:37.503028",
     "exception": false,
     "start_time": "2021-12-26T06:01:37.453568",
     "status": "completed"
    },
    "tags": []
   },
   "outputs": [],
   "source": [
    "import warnings\n",
    "warnings.filterwarnings(\"ignore\")"
   ]
  },
  {
   "cell_type": "code",
   "execution_count": 2,
   "metadata": {
    "execution": {
     "iopub.execute_input": "2021-12-26T06:01:37.554496Z",
     "iopub.status.busy": "2021-12-26T06:01:37.553846Z",
     "iopub.status.idle": "2021-12-26T06:01:41.576786Z",
     "shell.execute_reply": "2021-12-26T06:01:41.575779Z",
     "shell.execute_reply.started": "2021-12-26T04:55:47.644770Z"
    },
    "id": "xUULCwq2mIAk",
    "papermill": {
     "duration": 4.048887,
     "end_time": "2021-12-26T06:01:41.576951",
     "exception": false,
     "start_time": "2021-12-26T06:01:37.528064",
     "status": "completed"
    },
    "tags": []
   },
   "outputs": [],
   "source": [
    "import pandas as pd\n",
    "import numpy as np \n",
    "import os \n",
    "import shutil\n",
    "import glob\n",
    "import matplotlib.pyplot as plt\n",
    "import tensorflow as tf"
   ]
  },
  {
   "cell_type": "code",
   "execution_count": 3,
   "metadata": {
    "execution": {
     "iopub.execute_input": "2021-12-26T06:01:41.628123Z",
     "iopub.status.busy": "2021-12-26T06:01:41.627436Z",
     "iopub.status.idle": "2021-12-26T06:01:41.834122Z",
     "shell.execute_reply": "2021-12-26T06:01:41.833519Z",
     "shell.execute_reply.started": "2021-12-26T04:55:52.072481Z"
    },
    "id": "N97MDQoIF-Hq",
    "outputId": "70fbada3-0a3b-4052-8ac5-a1ea5503dabe",
    "papermill": {
     "duration": 0.233439,
     "end_time": "2021-12-26T06:01:41.834379",
     "exception": true,
     "start_time": "2021-12-26T06:01:41.600940",
     "status": "failed"
    },
    "tags": []
   },
   "outputs": [
    {
     "ename": "ModuleNotFoundError",
     "evalue": "No module named 'google.colab'",
     "output_type": "error",
     "traceback": [
      "\u001b[0;31m---------------------------------------------------------------------------\u001b[0m",
      "\u001b[0;31mModuleNotFoundError\u001b[0m                       Traceback (most recent call last)",
      "\u001b[0;32m/tmp/ipykernel_25/1408506528.py\u001b[0m in \u001b[0;36m<module>\u001b[0;34m\u001b[0m\n\u001b[0;32m----> 1\u001b[0;31m \u001b[0;32mfrom\u001b[0m \u001b[0mgoogle\u001b[0m\u001b[0;34m.\u001b[0m\u001b[0mcolab\u001b[0m \u001b[0;32mimport\u001b[0m \u001b[0mdrive\u001b[0m\u001b[0;34m\u001b[0m\u001b[0;34m\u001b[0m\u001b[0m\n\u001b[0m\u001b[1;32m      2\u001b[0m \u001b[0mdrive\u001b[0m\u001b[0;34m.\u001b[0m\u001b[0mmount\u001b[0m\u001b[0;34m(\u001b[0m\u001b[0;34m'/content/drive'\u001b[0m\u001b[0;34m)\u001b[0m\u001b[0;34m\u001b[0m\u001b[0;34m\u001b[0m\u001b[0m\n",
      "\u001b[0;31mModuleNotFoundError\u001b[0m: No module named 'google.colab'"
     ]
    }
   ],
   "source": [
    "from google.colab import drive\n",
    "drive.mount('/content/drive')"
   ]
  },
  {
   "cell_type": "code",
   "execution_count": null,
   "metadata": {
    "execution": {
     "iopub.execute_input": "2021-12-26T04:56:00.358622Z",
     "iopub.status.busy": "2021-12-26T04:56:00.357806Z",
     "iopub.status.idle": "2021-12-26T04:56:11.148220Z",
     "shell.execute_reply": "2021-12-26T04:56:11.147418Z",
     "shell.execute_reply.started": "2021-12-26T04:56:00.358576Z"
    },
    "papermill": {
     "duration": null,
     "end_time": null,
     "exception": null,
     "start_time": null,
     "status": "pending"
    },
    "tags": []
   },
   "outputs": [],
   "source": [
    "!pip install openpyxl"
   ]
  },
  {
   "cell_type": "code",
   "execution_count": null,
   "metadata": {
    "execution": {
     "iopub.execute_input": "2021-12-26T04:56:11.151961Z",
     "iopub.status.busy": "2021-12-26T04:56:11.151738Z",
     "iopub.status.idle": "2021-12-26T04:56:13.176763Z",
     "shell.execute_reply": "2021-12-26T04:56:13.175900Z",
     "shell.execute_reply.started": "2021-12-26T04:56:11.151933Z"
    },
    "papermill": {
     "duration": null,
     "end_time": null,
     "exception": null,
     "start_time": null,
     "status": "pending"
    },
    "tags": []
   },
   "outputs": [],
   "source": [
    "device_name = tf.test.gpu_device_name()\n",
    "if \"GPU\" not in device_name:\n",
    "    print(\"GPU device not found\")\n",
    "print('Found GPU at: {}'.format(device_name))\n",
    "\n",
    "plt.rcParams['figure.figsize'] = [8.0, 8.0]\n",
    "plt.rcParams['figure.dpi'] = 100\n"
   ]
  },
  {
   "cell_type": "code",
   "execution_count": null,
   "metadata": {
    "execution": {
     "iopub.execute_input": "2021-12-26T04:56:13.180721Z",
     "iopub.status.busy": "2021-12-26T04:56:13.177877Z",
     "iopub.status.idle": "2021-12-26T04:56:13.709147Z",
     "shell.execute_reply": "2021-12-26T04:56:13.708315Z",
     "shell.execute_reply.started": "2021-12-26T04:56:13.180677Z"
    },
    "id": "eirlFrYamIAl",
    "outputId": "73f4ac1d-8b5b-4930-dfff-4975ea1ae2be",
    "papermill": {
     "duration": null,
     "end_time": null,
     "exception": null,
     "start_time": null,
     "status": "pending"
    },
    "tags": []
   },
   "outputs": [],
   "source": [
    "covid_imgs = pd.read_excel(\"../input/covid19-radiography-database/COVID-19_Radiography_Dataset/COVID.metadata.xlsx\", engine='openpyxl')\n",
    "covid_imgs.head(2)"
   ]
  },
  {
   "cell_type": "code",
   "execution_count": null,
   "metadata": {
    "execution": {
     "iopub.execute_input": "2021-12-26T04:56:13.711697Z",
     "iopub.status.busy": "2021-12-26T04:56:13.711435Z",
     "iopub.status.idle": "2021-12-26T04:56:14.283058Z",
     "shell.execute_reply": "2021-12-26T04:56:14.282215Z",
     "shell.execute_reply.started": "2021-12-26T04:56:13.711662Z"
    },
    "id": "2raqubrZmIAn",
    "outputId": "637002ec-cee6-47f9-aaea-5e72538adf24",
    "papermill": {
     "duration": null,
     "end_time": null,
     "exception": null,
     "start_time": null,
     "status": "pending"
    },
    "tags": []
   },
   "outputs": [],
   "source": [
    "opacity_imgs = pd.read_excel(\"../input/covid19-radiography-database/COVID-19_Radiography_Dataset/Lung_Opacity.metadata.xlsx\", engine='openpyxl')\n",
    "opacity_imgs.head(2)"
   ]
  },
  {
   "cell_type": "code",
   "execution_count": null,
   "metadata": {
    "execution": {
     "iopub.execute_input": "2021-12-26T04:56:14.284776Z",
     "iopub.status.busy": "2021-12-26T04:56:14.284515Z",
     "iopub.status.idle": "2021-12-26T04:56:15.207929Z",
     "shell.execute_reply": "2021-12-26T04:56:15.207093Z",
     "shell.execute_reply.started": "2021-12-26T04:56:14.284741Z"
    },
    "id": "lD5p1PIlmIAp",
    "outputId": "dae32a4f-6ce0-474f-b903-b60c3ca8b2c0",
    "papermill": {
     "duration": null,
     "end_time": null,
     "exception": null,
     "start_time": null,
     "status": "pending"
    },
    "tags": []
   },
   "outputs": [],
   "source": [
    "normal_imgs = pd.read_excel(\"../input/covid19-radiography-database/COVID-19_Radiography_Dataset/Normal.metadata.xlsx\", engine='openpyxl')\n",
    "normal_imgs.head(2)"
   ]
  },
  {
   "cell_type": "code",
   "execution_count": null,
   "metadata": {
    "execution": {
     "iopub.execute_input": "2021-12-26T04:56:15.209600Z",
     "iopub.status.busy": "2021-12-26T04:56:15.209319Z",
     "iopub.status.idle": "2021-12-26T04:56:15.356824Z",
     "shell.execute_reply": "2021-12-26T04:56:15.356023Z",
     "shell.execute_reply.started": "2021-12-26T04:56:15.209564Z"
    },
    "id": "AKGIwM1zmIAq",
    "outputId": "15d8582d-af71-42a3-e8ea-b0b69e69d39d",
    "papermill": {
     "duration": null,
     "end_time": null,
     "exception": null,
     "start_time": null,
     "status": "pending"
    },
    "tags": []
   },
   "outputs": [],
   "source": [
    "pneumonia_imgs = pd.read_excel(\"../input/covid19-radiography-database/COVID-19_Radiography_Dataset/Viral Pneumonia.metadata.xlsx\", engine='openpyxl')\n",
    "pneumonia_imgs.head(2)"
   ]
  },
  {
   "cell_type": "code",
   "execution_count": null,
   "metadata": {
    "execution": {
     "iopub.execute_input": "2021-12-26T04:56:15.358598Z",
     "iopub.status.busy": "2021-12-26T04:56:15.358198Z",
     "iopub.status.idle": "2021-12-26T04:56:15.362638Z",
     "shell.execute_reply": "2021-12-26T04:56:15.361694Z",
     "shell.execute_reply.started": "2021-12-26T04:56:15.358561Z"
    },
    "id": "Yx5uhQtMmIAr",
    "papermill": {
     "duration": null,
     "end_time": null,
     "exception": null,
     "start_time": null,
     "status": "pending"
    },
    "tags": []
   },
   "outputs": [],
   "source": [
    "ROOT_DIR = \"../input/covid19-radiography-database/COVID-19_Radiography_Dataset/\"\n",
    "imgs = ['COVID','Lung_Opacity','Normal','Viral Pneumonia']\n",
    "\n",
    "NEW_DIR = \"./all_images/\""
   ]
  },
  {
   "cell_type": "code",
   "execution_count": null,
   "metadata": {
    "execution": {
     "iopub.execute_input": "2021-12-26T04:56:15.364593Z",
     "iopub.status.busy": "2021-12-26T04:56:15.363989Z",
     "iopub.status.idle": "2021-12-26T04:56:15.374779Z",
     "shell.execute_reply": "2021-12-26T04:56:15.374015Z",
     "shell.execute_reply.started": "2021-12-26T04:56:15.364555Z"
    },
    "id": "0a147Lg6mIAs",
    "outputId": "16bca1d5-6056-49a6-8ccb-bc77500a1e3e",
    "papermill": {
     "duration": null,
     "end_time": null,
     "exception": null,
     "start_time": null,
     "status": "pending"
    },
    "tags": []
   },
   "outputs": [],
   "source": [
    "print(imgs[0])\n",
    "print(imgs[1])\n",
    "print(imgs[2])\n",
    "print(imgs[3])"
   ]
  },
  {
   "cell_type": "code",
   "execution_count": null,
   "metadata": {
    "execution": {
     "iopub.execute_input": "2021-12-26T04:56:15.376682Z",
     "iopub.status.busy": "2021-12-26T04:56:15.376136Z",
     "iopub.status.idle": "2021-12-26T04:58:13.076565Z",
     "shell.execute_reply": "2021-12-26T04:58:13.075757Z",
     "shell.execute_reply.started": "2021-12-26T04:56:15.376646Z"
    },
    "id": "fmzcJ4YjmIAu",
    "outputId": "2559bd21-82bc-463e-be9c-74b944d9b89a",
    "papermill": {
     "duration": null,
     "end_time": null,
     "exception": null,
     "start_time": null,
     "status": "pending"
    },
    "tags": []
   },
   "outputs": [],
   "source": [
    "if not os.path.exists(NEW_DIR):\n",
    "    os.mkdir(NEW_DIR)\n",
    "    \n",
    "    for i in imgs:\n",
    "        org_dir = os.path.join(ROOT_DIR,i+\"/\")\n",
    "        \n",
    "        for imgfile in glob.iglob(os.path.join(org_dir,\"*.png\")):\n",
    "            shutil.copy(imgfile,NEW_DIR)\n",
    "else:\n",
    "    print(\"Already Exist\")"
   ]
  },
  {
   "cell_type": "code",
   "execution_count": null,
   "metadata": {
    "execution": {
     "iopub.execute_input": "2021-12-26T04:58:13.081271Z",
     "iopub.status.busy": "2021-12-26T04:58:13.081061Z",
     "iopub.status.idle": "2021-12-26T04:58:13.249865Z",
     "shell.execute_reply": "2021-12-26T04:58:13.249051Z",
     "shell.execute_reply.started": "2021-12-26T04:58:13.081245Z"
    },
    "id": "-GYEvNaGmIAv",
    "outputId": "20780041-29e2-42b0-8edf-2f695a5d05a4",
    "papermill": {
     "duration": null,
     "end_time": null,
     "exception": null,
     "start_time": null,
     "status": "pending"
    },
    "tags": []
   },
   "outputs": [],
   "source": [
    "counter = {\"COVID\":0,\"Lung_Opacity\":0,\"Normal\":0,\"Viral Pneumonia\":0}\n",
    "\n",
    "for image in imgs:\n",
    "    for count in glob.iglob(NEW_DIR+image+\"*\"):\n",
    "        counter[image] += 1\n",
    "\n",
    "print(counter)"
   ]
  },
  {
   "cell_type": "code",
   "execution_count": null,
   "metadata": {
    "execution": {
     "iopub.execute_input": "2021-12-26T04:58:13.251402Z",
     "iopub.status.busy": "2021-12-26T04:58:13.251138Z",
     "iopub.status.idle": "2021-12-26T04:58:13.451668Z",
     "shell.execute_reply": "2021-12-26T04:58:13.450969Z",
     "shell.execute_reply.started": "2021-12-26T04:58:13.251353Z"
    },
    "id": "0ni-k5FsmIAx",
    "outputId": "62f1fe49-f0be-4c93-f258-8b3a380fbe63",
    "papermill": {
     "duration": null,
     "end_time": null,
     "exception": null,
     "start_time": null,
     "status": "pending"
    },
    "tags": []
   },
   "outputs": [],
   "source": [
    "plt.rcParams['figure.figsize'] = [15,7]\n",
    "plt.bar(x=counter.keys(),height=counter.values())\n",
    "plt.show()"
   ]
  },
  {
   "cell_type": "markdown",
   "metadata": {
    "id": "FATruXQemIAy",
    "papermill": {
     "duration": null,
     "end_time": null,
     "exception": null,
     "start_time": null,
     "status": "pending"
    },
    "tags": []
   },
   "source": [
    "x = 3616*0.7,6012*0.7,10192*0.7,1345*0.7\n",
    "y = 3616*0.2,6012*0.2,10192*0.2,1345*0.2\n",
    "z = 3616*0.1,6012.0.1,10192*0.1,1345*0.1"
   ]
  },
  {
   "cell_type": "code",
   "execution_count": null,
   "metadata": {
    "execution": {
     "iopub.execute_input": "2021-12-26T04:58:13.453676Z",
     "iopub.status.busy": "2021-12-26T04:58:13.452847Z",
     "iopub.status.idle": "2021-12-26T04:58:17.145166Z",
     "shell.execute_reply": "2021-12-26T04:58:17.144376Z",
     "shell.execute_reply.started": "2021-12-26T04:58:13.453635Z"
    },
    "id": "PJKirno7mIA1",
    "papermill": {
     "duration": null,
     "end_time": null,
     "exception": null,
     "start_time": null,
     "status": "pending"
    },
    "tags": []
   },
   "outputs": [],
   "source": [
    "if not os.path.exists(NEW_DIR+\"train_test_split/\"):\n",
    "    \n",
    "    os.makedirs(NEW_DIR+\"train_test_split/\")\n",
    "    \n",
    "    os.makedirs(NEW_DIR+\"train_test_split/train/COVID\")\n",
    "    os.makedirs(NEW_DIR+\"train_test_split/test/COVID\")\n",
    "    os.makedirs(NEW_DIR+\"train_test_split/validation/COVID\")\n",
    "    \n",
    "    os.makedirs(NEW_DIR+\"train_test_split/train/Normal\")\n",
    "    os.makedirs(NEW_DIR+\"train_test_split/test/Normal\")\n",
    "    os.makedirs(NEW_DIR+\"train_test_split/validation/Normal\")\n",
    "    \n",
    "    os.makedirs(NEW_DIR+\"train_test_split/train/Lung Opacity\")\n",
    "    os.makedirs(NEW_DIR+\"train_test_split/test/Lung Opacity\")\n",
    "    os.makedirs(NEW_DIR+\"train_test_split/validation/Lung Opacity\")\n",
    "    \n",
    "    os.makedirs(NEW_DIR+\"train_test_split/train/Viral Pneumonia\")\n",
    "    os.makedirs(NEW_DIR+\"train_test_split/test/Viral Pneumonia\")\n",
    "    os.makedirs(NEW_DIR+\"train_test_split/validation/Viral Pneumonia\")\n",
    "    \n",
    "    for i in np.random.choice(replace= False , size= 2531 , a = glob.glob(NEW_DIR+imgs[0]+\"*\") ):\n",
    "        shutil.copy(i , NEW_DIR+\"train_test_split/train/Covid\" )\n",
    "        os.remove(i)\n",
    "\n",
    "    for i in np.random.choice(replace= False , size= 7134 , a = glob.glob(NEW_DIR+imgs[2]+\"*\") ):\n",
    "        shutil.copy(i , NEW_DIR+\"train_test_split/train/Normal\" )\n",
    "        os.remove(i)\n",
    "        \n",
    "    for i in np.random.choice(replace= False , size= 4208 , a = glob.glob(NEW_DIR+imgs[1]+\"*\") ):\n",
    "        shutil.copy(i , NEW_DIR+\"train_test_split/train/Lung Opacity\" )\n",
    "        os.remove(i)\n",
    "\n",
    "    for i in np.random.choice(replace= False , size= 941 , a = glob.glob(NEW_DIR+imgs[3]+\"*\") ):\n",
    "        shutil.copy(i , NEW_DIR+\"train_test_split/train/Viral Pneumonia\" )\n",
    "        os.remove(i)\n",
    "\n",
    "    # Validation Data\n",
    "    for i in np.random.choice(replace= False , size= 723 , a = glob.glob(NEW_DIR+imgs[0]+\"*\") ):\n",
    "        shutil.copy(i , NEW_DIR+\"train_test_split/validation/Covid\" )\n",
    "        os.remove(i)\n",
    "\n",
    "    for i in np.random.choice(replace= False , size= 2038 , a = glob.glob(NEW_DIR+imgs[2]+\"*\") ):\n",
    "        shutil.copy(i , NEW_DIR+\"train_test_split/validation/Normal\" )\n",
    "        os.remove(i)\n",
    "        \n",
    "    for i in np.random.choice(replace= False , size= 1202 , a = glob.glob(NEW_DIR+imgs[1]+\"*\") ):\n",
    "        shutil.copy(i , NEW_DIR+\"train_test_split/validation/Lung Opacity\" )\n",
    "        os.remove(i)\n",
    "\n",
    "    for i in np.random.choice(replace= False , size= 269 , a = glob.glob(NEW_DIR+imgs[3]+\"*\") ):\n",
    "        shutil.copy(i , NEW_DIR+\"train_test_split/validation/Viral Pneumonia\" )\n",
    "        os.remove(i)\n",
    "\n",
    "\n",
    "    # Test Data\n",
    "    for i in np.random.choice(replace= False , size= 362 , a = glob.glob(NEW_DIR+imgs[0]+\"*\") ):\n",
    "        shutil.copy(i , NEW_DIR+\"train_test_split/test/Covid\" )\n",
    "        os.remove(i)\n",
    "\n",
    "    for i in np.random.choice(replace= False , size= 1020 , a = glob.glob(NEW_DIR+imgs[2]+\"*\") ):\n",
    "        shutil.copy(i , NEW_DIR+\"train_test_split/test/Normal\" )\n",
    "        os.remove(i)\n",
    "        \n",
    "    for i in np.random.choice(replace= False , size= 602 , a = glob.glob(NEW_DIR+imgs[1]+\"*\") ):\n",
    "        shutil.copy(i , NEW_DIR+\"train_test_split/test/Lung Opacity\" )\n",
    "        os.remove(i)\n",
    "\n",
    "    for i in np.random.choice(replace= False , size= 135 , a = glob.glob(NEW_DIR+imgs[3]+\"*\") ):\n",
    "        shutil.copy(i , NEW_DIR+\"train_test_split/test/Viral Pneumonia\" )\n",
    "        os.remove(i)\n"
   ]
  },
  {
   "cell_type": "code",
   "execution_count": null,
   "metadata": {
    "execution": {
     "iopub.execute_input": "2021-12-26T04:58:17.146845Z",
     "iopub.status.busy": "2021-12-26T04:58:17.146571Z",
     "iopub.status.idle": "2021-12-26T04:58:17.152232Z",
     "shell.execute_reply": "2021-12-26T04:58:17.151318Z",
     "shell.execute_reply.started": "2021-12-26T04:58:17.146807Z"
    },
    "id": "0h6QXlZFmIA3",
    "papermill": {
     "duration": null,
     "end_time": null,
     "exception": null,
     "start_time": null,
     "status": "pending"
    },
    "tags": []
   },
   "outputs": [],
   "source": [
    "train_path  = \"./all_images/train_test_split/train\"\n",
    "valid_path  = \"./all_images/train_test_split/validation\"\n",
    "test_path   = \"./all_images/train_test_split/test\""
   ]
  },
  {
   "cell_type": "code",
   "execution_count": null,
   "metadata": {
    "execution": {
     "iopub.execute_input": "2021-12-26T04:58:17.154108Z",
     "iopub.status.busy": "2021-12-26T04:58:17.153363Z",
     "iopub.status.idle": "2021-12-26T04:58:17.877098Z",
     "shell.execute_reply": "2021-12-26T04:58:17.876333Z",
     "shell.execute_reply.started": "2021-12-26T04:58:17.154068Z"
    },
    "id": "pR1GR1EhmIA4",
    "papermill": {
     "duration": null,
     "end_time": null,
     "exception": null,
     "start_time": null,
     "status": "pending"
    },
    "tags": []
   },
   "outputs": [],
   "source": [
    "from keras.preprocessing.image import ImageDataGenerator\n",
    "from keras.applications import vgg16\n",
    "from keras.applications import mobilenet_v2\n",
    "from keras.applications import densenet\n",
    "from keras.applications import inception_resnet_v2\n",
    "from keras.models import Model\n",
    "from keras.layers import Dense, MaxPool2D, Conv2D\n",
    "import keras"
   ]
  },
  {
   "cell_type": "code",
   "execution_count": null,
   "metadata": {
    "execution": {
     "iopub.execute_input": "2021-12-26T04:58:17.878578Z",
     "iopub.status.busy": "2021-12-26T04:58:17.878284Z",
     "iopub.status.idle": "2021-12-26T04:58:18.700112Z",
     "shell.execute_reply": "2021-12-26T04:58:18.699387Z",
     "shell.execute_reply.started": "2021-12-26T04:58:17.878544Z"
    },
    "id": "NlNILB-rmIA4",
    "outputId": "a656582e-537e-4451-dc94-a199944358af",
    "papermill": {
     "duration": null,
     "end_time": null,
     "exception": null,
     "start_time": null,
     "status": "pending"
    },
    "tags": []
   },
   "outputs": [],
   "source": [
    "train_data_gen = ImageDataGenerator(preprocessing_function= inception_resnet_v2.preprocess_input , zoom_range= 0.2, horizontal_flip= True, shear_range= 0.2 , rescale= 1./255)\n",
    "train = train_data_gen.flow_from_directory(directory= train_path , target_size=(224,224))"
   ]
  },
  {
   "cell_type": "code",
   "execution_count": null,
   "metadata": {
    "execution": {
     "iopub.execute_input": "2021-12-26T04:58:18.702020Z",
     "iopub.status.busy": "2021-12-26T04:58:18.701241Z",
     "iopub.status.idle": "2021-12-26T04:58:18.915549Z",
     "shell.execute_reply": "2021-12-26T04:58:18.914884Z",
     "shell.execute_reply.started": "2021-12-26T04:58:18.701971Z"
    },
    "id": "woiGFXuMmIA6",
    "outputId": "d5cc1f29-4ac1-4e6b-a886-26008dca614e",
    "papermill": {
     "duration": null,
     "end_time": null,
     "exception": null,
     "start_time": null,
     "status": "pending"
    },
    "tags": []
   },
   "outputs": [],
   "source": [
    "validation_data_gen = ImageDataGenerator(preprocessing_function= inception_resnet_v2.preprocess_input , rescale= 1./255 )\n",
    "valid = validation_data_gen.flow_from_directory(directory= valid_path , target_size=(224,224))"
   ]
  },
  {
   "cell_type": "code",
   "execution_count": null,
   "metadata": {
    "execution": {
     "iopub.execute_input": "2021-12-26T04:58:18.916892Z",
     "iopub.status.busy": "2021-12-26T04:58:18.916655Z",
     "iopub.status.idle": "2021-12-26T04:58:19.027406Z",
     "shell.execute_reply": "2021-12-26T04:58:19.026681Z",
     "shell.execute_reply.started": "2021-12-26T04:58:18.916858Z"
    },
    "id": "048WIUermIA6",
    "outputId": "2e9a0569-81f4-41b0-d4d6-9649c2a113f9",
    "papermill": {
     "duration": null,
     "end_time": null,
     "exception": null,
     "start_time": null,
     "status": "pending"
    },
    "tags": []
   },
   "outputs": [],
   "source": [
    "test_data_gen = ImageDataGenerator(preprocessing_function= inception_resnet_v2.preprocess_input, rescale= 1./255 )\n",
    "test = train_data_gen.flow_from_directory(directory= test_path , target_size=(224,224), shuffle= False)"
   ]
  },
  {
   "cell_type": "code",
   "execution_count": null,
   "metadata": {
    "execution": {
     "iopub.execute_input": "2021-12-26T04:58:19.029331Z",
     "iopub.status.busy": "2021-12-26T04:58:19.028837Z",
     "iopub.status.idle": "2021-12-26T04:58:19.035201Z",
     "shell.execute_reply": "2021-12-26T04:58:19.034465Z",
     "shell.execute_reply.started": "2021-12-26T04:58:19.029292Z"
    },
    "id": "uZGrFUN9mIA7",
    "outputId": "aa60f985-527d-4caa-9954-a6b63d32e5c1",
    "papermill": {
     "duration": null,
     "end_time": null,
     "exception": null,
     "start_time": null,
     "status": "pending"
    },
    "tags": []
   },
   "outputs": [],
   "source": [
    "train.class_indices"
   ]
  },
  {
   "cell_type": "code",
   "execution_count": null,
   "metadata": {
    "execution": {
     "iopub.execute_input": "2021-12-26T04:58:19.037415Z",
     "iopub.status.busy": "2021-12-26T04:58:19.036752Z",
     "iopub.status.idle": "2021-12-26T04:58:19.042942Z",
     "shell.execute_reply": "2021-12-26T04:58:19.042281Z",
     "shell.execute_reply.started": "2021-12-26T04:58:19.037376Z"
    },
    "id": "RFd_jDSNmIA7",
    "papermill": {
     "duration": null,
     "end_time": null,
     "exception": null,
     "start_time": null,
     "status": "pending"
    },
    "tags": []
   },
   "outputs": [],
   "source": [
    "class_type = {0:'COVID', 1:'Lung Opacity', 2:'Normal', 3:'Viral Pneumonia'}"
   ]
  },
  {
   "cell_type": "code",
   "execution_count": null,
   "metadata": {
    "execution": {
     "iopub.execute_input": "2021-12-26T04:58:19.044739Z",
     "iopub.status.busy": "2021-12-26T04:58:19.044020Z",
     "iopub.status.idle": "2021-12-26T04:58:19.395839Z",
     "shell.execute_reply": "2021-12-26T04:58:19.395126Z",
     "shell.execute_reply.started": "2021-12-26T04:58:19.044702Z"
    },
    "id": "RWAVgWQZmIA8",
    "papermill": {
     "duration": null,
     "end_time": null,
     "exception": null,
     "start_time": null,
     "status": "pending"
    },
    "tags": []
   },
   "outputs": [],
   "source": [
    "t_img , label = train.next()"
   ]
  },
  {
   "cell_type": "code",
   "execution_count": null,
   "metadata": {
    "execution": {
     "iopub.execute_input": "2021-12-26T04:58:19.397321Z",
     "iopub.status.busy": "2021-12-26T04:58:19.397089Z",
     "iopub.status.idle": "2021-12-26T04:58:19.401874Z",
     "shell.execute_reply": "2021-12-26T04:58:19.401020Z",
     "shell.execute_reply.started": "2021-12-26T04:58:19.397289Z"
    },
    "id": "w5S3oNsfIudq",
    "outputId": "4f01e793-d9e2-4f12-fe44-f6e165bdd08a",
    "papermill": {
     "duration": null,
     "end_time": null,
     "exception": null,
     "start_time": null,
     "status": "pending"
    },
    "tags": []
   },
   "outputs": [],
   "source": [
    "len(t_img)"
   ]
  },
  {
   "cell_type": "code",
   "execution_count": null,
   "metadata": {
    "execution": {
     "iopub.execute_input": "2021-12-26T04:58:19.403745Z",
     "iopub.status.busy": "2021-12-26T04:58:19.403306Z",
     "iopub.status.idle": "2021-12-26T04:58:19.413183Z",
     "shell.execute_reply": "2021-12-26T04:58:19.412539Z",
     "shell.execute_reply.started": "2021-12-26T04:58:19.403704Z"
    },
    "id": "XM3rJd7DmIA8",
    "papermill": {
     "duration": null,
     "end_time": null,
     "exception": null,
     "start_time": null,
     "status": "pending"
    },
    "tags": []
   },
   "outputs": [],
   "source": [
    "def plotImages(img_arr, label):\n",
    "    \n",
    "  for im, l in zip(img_arr,label) :\n",
    "    plt.figure(figsize= (5,5))\n",
    "    plt.imshow(im, cmap = 'gray')\n",
    "    plt.title(im.shape)\n",
    "    plt.axis = False\n",
    "    plt.show()"
   ]
  },
  {
   "cell_type": "code",
   "execution_count": null,
   "metadata": {
    "execution": {
     "iopub.execute_input": "2021-12-26T04:58:19.414738Z",
     "iopub.status.busy": "2021-12-26T04:58:19.414338Z",
     "iopub.status.idle": "2021-12-26T04:58:26.752264Z",
     "shell.execute_reply": "2021-12-26T04:58:26.751553Z",
     "shell.execute_reply.started": "2021-12-26T04:58:19.414701Z"
    },
    "id": "veqn_7-NmIA8",
    "outputId": "65767142-52b2-4b1a-abb9-8aebd20bbc08",
    "papermill": {
     "duration": null,
     "end_time": null,
     "exception": null,
     "start_time": null,
     "status": "pending"
    },
    "tags": []
   },
   "outputs": [],
   "source": [
    "plotImages(t_img, label)"
   ]
  },
  {
   "cell_type": "code",
   "execution_count": null,
   "metadata": {
    "execution": {
     "iopub.execute_input": "2021-12-26T04:58:26.754104Z",
     "iopub.status.busy": "2021-12-26T04:58:26.753692Z",
     "iopub.status.idle": "2021-12-26T04:58:26.765401Z",
     "shell.execute_reply": "2021-12-26T04:58:26.764773Z",
     "shell.execute_reply.started": "2021-12-26T04:58:26.754064Z"
    },
    "id": "rj1zXfKemIA9",
    "papermill": {
     "duration": null,
     "end_time": null,
     "exception": null,
     "start_time": null,
     "status": "pending"
    },
    "tags": []
   },
   "outputs": [],
   "source": [
    "import tensorflow as tf\n",
    "import matplotlib.pyplot as plt\n",
    "from tensorflow.keras.models import Model, Sequential\n",
    "import numpy as np\n",
    "from tensorflow.keras.layers import Input, Conv2D, MaxPooling2D,AveragePooling2D\n",
    "from tensorflow.keras.optimizers import Adam,Adamax\n",
    "from tensorflow.keras.layers import Dense, Flatten,Dropout\n",
    "from tensorflow.keras.models import Model\n",
    "from keras.models import Model\n",
    "from keras.layers import Flatten, Dense\n",
    "from keras.applications.nasnet import NASNetMobile\n",
    "from keras.applications.mobilenet_v2 import MobileNetV2 \n",
    "from keras.applications.densenet import DenseNet121 \n",
    "from keras.applications.inception_resnet_v2 import InceptionResNetV2 \n",
    "from tensorflow import keras\n",
    "import matplotlib.cm as cm\n",
    "from tensorflow.keras.callbacks import ModelCheckpoint, EarlyStopping, ReduceLROnPlateau\n",
    "from tensorflow.keras.layers.experimental.preprocessing import Resizing, Rescaling\n",
    "from tensorflow.keras.preprocessing.image import ImageDataGenerator\n",
    "import time\n"
   ]
  },
  {
   "cell_type": "code",
   "execution_count": null,
   "metadata": {
    "execution": {
     "iopub.execute_input": "2021-12-26T04:58:26.767081Z",
     "iopub.status.busy": "2021-12-26T04:58:26.766821Z",
     "iopub.status.idle": "2021-12-26T04:58:34.013510Z",
     "shell.execute_reply": "2021-12-26T04:58:34.012750Z",
     "shell.execute_reply.started": "2021-12-26T04:58:26.767042Z"
    },
    "id": "BVvIBZHDmIA9",
    "papermill": {
     "duration": null,
     "end_time": null,
     "exception": null,
     "start_time": null,
     "status": "pending"
    },
    "tags": []
   },
   "outputs": [],
   "source": [
    "INIT_LR = 1e-3\n",
    "EPOCHS = 100\n",
    "BS = 8\n",
    "base_model = InceptionResNetV2(weights = 'imagenet', include_top=False, input_tensor=Input(shape=(224,224,3)))\n",
    "headmodel = base_model.output\n",
    "headmodel = AveragePooling2D(pool_size =(4, 4))(headmodel)\n",
    "headmodel = Flatten(name ='Flatten')(headmodel)\n",
    "headmodel = Dense(64, activation = 'relu')(headmodel)\n",
    "headmodel = Dropout(0.5)(headmodel)\n",
    "headmodel = Dense(4, activation = 'softmax')(headmodel)\n",
    "\n",
    "model = Model(inputs = base_model.input, outputs = headmodel)\n",
    "\n",
    "for layers in base_model.layers:\n",
    "    layers.trainable = False\n",
    "\n",
    "\n",
    "opt = Adam(lr = INIT_LR, decay = INIT_LR/EPOCHS)\n",
    "model.compile(loss = 'categorical_crossentropy', optimizer = opt, metrics = ['accuracy'])"
   ]
  },
  {
   "cell_type": "code",
   "execution_count": null,
   "metadata": {
    "execution": {
     "iopub.execute_input": "2021-12-26T04:58:34.015114Z",
     "iopub.status.busy": "2021-12-26T04:58:34.014798Z",
     "iopub.status.idle": "2021-12-26T04:58:34.357226Z",
     "shell.execute_reply": "2021-12-26T04:58:34.356536Z",
     "shell.execute_reply.started": "2021-12-26T04:58:34.015021Z"
    },
    "id": "j0p1nKT5JST5",
    "papermill": {
     "duration": null,
     "end_time": null,
     "exception": null,
     "start_time": null,
     "status": "pending"
    },
    "tags": []
   },
   "outputs": [],
   "source": [
    "model.summary()"
   ]
  },
  {
   "cell_type": "code",
   "execution_count": null,
   "metadata": {
    "execution": {
     "iopub.execute_input": "2021-12-26T05:00:07.795199Z",
     "iopub.status.busy": "2021-12-26T05:00:07.794573Z"
    },
    "id": "mGZea-tamIA-",
    "papermill": {
     "duration": null,
     "end_time": null,
     "exception": null,
     "start_time": null,
     "status": "pending"
    },
    "tags": []
   },
   "outputs": [],
   "source": [
    "with tf.device('/gpu:0'):\n",
    "    print(\"Training the model with gpu . . .\")\n",
    "    # hist = model.fit_generator(trainAug.flow(X_train, y_train, batch_size = BS),steps_per_epoch=len(X_train) // BS, validation_data=(X_test, y_test), validation_steps=len(X_test) // BS, epochs=100)\n",
    "    hist = model.fit_generator(train, steps_per_epoch= len(train) // BS, epochs= 100, validation_data= valid , validation_steps= len(test) // BS)#, callbacks=[es,mc])"
   ]
  },
  {
   "cell_type": "code",
   "execution_count": null,
   "metadata": {
    "id": "PSngOggimIA-",
    "outputId": "1f85b71c-496f-40a6-bbb3-1b54bb1b0caf",
    "papermill": {
     "duration": null,
     "end_time": null,
     "exception": null,
     "start_time": null,
     "status": "pending"
    },
    "tags": []
   },
   "outputs": [],
   "source": [
    "model.save(\"inception_resnet_v2_dataaug_100itr_INIT_LR_1e-3.h5\")"
   ]
  },
  {
   "cell_type": "markdown",
   "metadata": {
    "papermill": {
     "duration": null,
     "end_time": null,
     "exception": null,
     "start_time": null,
     "status": "pending"
    },
    "tags": []
   },
   "source": [
    "<a href=\"Your file path\"> Download File </a>"
   ]
  },
  {
   "cell_type": "code",
   "execution_count": null,
   "metadata": {
    "papermill": {
     "duration": null,
     "end_time": null,
     "exception": null,
     "start_time": null,
     "status": "pending"
    },
    "tags": []
   },
   "outputs": [],
   "source": []
  }
 ],
 "metadata": {
  "kernelspec": {
   "display_name": "Python 3",
   "language": "python",
   "name": "python3"
  },
  "language_info": {
   "codemirror_mode": {
    "name": "ipython",
    "version": 3
   },
   "file_extension": ".py",
   "mimetype": "text/x-python",
   "name": "python",
   "nbconvert_exporter": "python",
   "pygments_lexer": "ipython3",
   "version": "3.7.3"
  },
  "papermill": {
   "default_parameters": {},
   "duration": 15.293061,
   "end_time": "2021-12-26T06:01:44.686390",
   "environment_variables": {},
   "exception": true,
   "input_path": "__notebook__.ipynb",
   "output_path": "__notebook__.ipynb",
   "parameters": {},
   "start_time": "2021-12-26T06:01:29.393329",
   "version": "2.3.3"
  }
 },
 "nbformat": 4,
 "nbformat_minor": 5
}
